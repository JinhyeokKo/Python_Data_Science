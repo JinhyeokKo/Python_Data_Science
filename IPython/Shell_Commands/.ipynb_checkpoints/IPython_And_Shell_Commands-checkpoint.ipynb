{
 "cells": [
  {
   "cell_type": "markdown",
   "id": "cee95a2a-2572-4ce4-9741-22806a308870",
   "metadata": {},
   "source": [
    "# IPython_And_Shell_Commands"
   ]
  },
  {
   "cell_type": "markdown",
   "id": "bb9db975-578b-462f-bbfe-f4241fb952c1",
   "metadata": {},
   "source": [
    "## IPython과 shell 명령어"
   ]
  },
  {
   "cell_type": "code",
   "execution_count": 1,
   "id": "8a693299-8fe5-4bca-bd7e-8d42f2e48e51",
   "metadata": {},
   "outputs": [
    {
     "name": "stdout",
     "output_type": "stream",
     "text": [
      " D 드라이브의 볼륨: JIINNN\n",
      " 볼륨 일련 번호: 20A8-6B0F\n",
      "\n",
      " D:\\A\\AI_Programming 디렉터리\n",
      "\n",
      "2024-04-06  오후 04:53    <DIR>          .\n",
      "2024-04-06  오후 04:00    <DIR>          ..\n",
      "2024-04-06  오후 04:42    <DIR>          .ipynb_checkpoints\n",
      "2024-04-06  오후 04:26             8,460 Basic_IPython.ipynb\n",
      "2024-04-06  오후 04:34             3,067 Basic_IPython.md\n",
      "2024-04-06  오후 04:40             5,603 Input_And_Output_History.ipynb\n",
      "2024-04-06  오후 04:41               944 Input_And_Output_History.md\n",
      "2024-04-06  오후 04:53             5,360 IPython_And_Shell_Commands.ipynb\n",
      "2024-04-06  오후 04:16               134 myscript.py\n",
      "               6개 파일              23,568 바이트\n",
      "               3개 디렉터리  233,442,889,728 바이트 남음\n"
     ]
    }
   ],
   "source": [
    "%ls"
   ]
  },
  {
   "cell_type": "code",
   "execution_count": 2,
   "id": "015d5770-047a-4410-9142-42bbd2137941",
   "metadata": {},
   "outputs": [
    {
     "data": {
      "text/plain": [
       "'D:\\\\A\\\\AI_Programming'"
      ]
     },
     "execution_count": 2,
     "metadata": {},
     "output_type": "execute_result"
    }
   ],
   "source": [
    "# automagic 사용 시 % 생략 가능\n",
    "pwd"
   ]
  },
  {
   "cell_type": "code",
   "execution_count": 3,
   "id": "5e85df87-b6fe-4c50-995e-0eb0d7f21f1c",
   "metadata": {},
   "outputs": [
    {
     "name": "stdout",
     "output_type": "stream",
     "text": [
      "\"출력\"\n"
     ]
    }
   ],
   "source": [
    "echo \"출력\""
   ]
  },
  {
   "cell_type": "markdown",
   "id": "2857d539-1a1d-41d5-b2bf-76c95f4657c3",
   "metadata": {},
   "source": [
    "### shell에 값 전달 및 받기"
   ]
  },
  {
   "cell_type": "code",
   "execution_count": 4,
   "id": "d088eed4-19f6-4d3a-8034-9c0c675e3ab5",
   "metadata": {},
   "outputs": [
    {
     "name": "stdout",
     "output_type": "stream",
     "text": [
      " D 드라이브의 볼륨: JIINNN\n",
      " 볼륨 일련 번호: 20A8-6B0F\n",
      "\n",
      " D:\\A\\AI_Programming 디렉터리\n",
      "\n",
      "2024-04-06  오후 04:53    <DIR>          .\n",
      "2024-04-06  오후 04:00    <DIR>          ..\n",
      "2024-04-06  오후 04:42    <DIR>          .ipynb_checkpoints\n",
      "2024-04-06  오후 04:26             8,460 Basic_IPython.ipynb\n",
      "2024-04-06  오후 04:34             3,067 Basic_IPython.md\n",
      "2024-04-06  오후 04:40             5,603 Input_And_Output_History.ipynb\n",
      "2024-04-06  오후 04:41               944 Input_And_Output_History.md\n",
      "2024-04-06  오후 04:53             5,360 IPython_And_Shell_Commands.ipynb\n",
      "2024-04-06  오후 04:16               134 myscript.py\n",
      "               6개 파일              23,568 바이트\n",
      "               3개 디렉터리  233,442,889,728 바이트 남음\n"
     ]
    }
   ],
   "source": [
    "contents = %ls"
   ]
  },
  {
   "cell_type": "code",
   "execution_count": 5,
   "id": "468a0e64-e9c3-49b7-b04e-522075645742",
   "metadata": {},
   "outputs": [
    {
     "name": "stdout",
     "output_type": "stream",
     "text": [
      "None\n"
     ]
    }
   ],
   "source": [
    "print(contents)"
   ]
  },
  {
   "cell_type": "code",
   "execution_count": 6,
   "id": "029c964c-359a-4022-a5dd-610502bcab44",
   "metadata": {},
   "outputs": [],
   "source": [
    "directory = %pwd"
   ]
  },
  {
   "cell_type": "code",
   "execution_count": 7,
   "id": "8a139d53-0135-4162-b519-475f682677d1",
   "metadata": {},
   "outputs": [
    {
     "name": "stdout",
     "output_type": "stream",
     "text": [
      "D:\\A\\AI_Programming\n"
     ]
    }
   ],
   "source": [
    "print(directory)"
   ]
  },
  {
   "cell_type": "code",
   "execution_count": 8,
   "id": "ad2a860a-b22a-42b3-8080-69b871d653e4",
   "metadata": {},
   "outputs": [
    {
     "data": {
      "text/plain": [
       "str"
      ]
     },
     "execution_count": 8,
     "metadata": {},
     "output_type": "execute_result"
    }
   ],
   "source": [
    "type(directory)"
   ]
  },
  {
   "cell_type": "code",
   "execution_count": 9,
   "id": "7834529e-6443-4838-9ba6-4a7aa920b8ac",
   "metadata": {},
   "outputs": [],
   "source": [
    "message = \"Hello\""
   ]
  },
  {
   "cell_type": "code",
   "execution_count": 10,
   "id": "a0617d4c-82a0-4538-8cfe-9129ec5301c2",
   "metadata": {},
   "outputs": [
    {
     "name": "stdout",
     "output_type": "stream",
     "text": [
      "Hello\n"
     ]
    }
   ],
   "source": [
    "%echo {message}"
   ]
  }
 ],
 "metadata": {
  "kernelspec": {
   "display_name": "Python 3 (ipykernel)",
   "language": "python",
   "name": "python3"
  },
  "language_info": {
   "codemirror_mode": {
    "name": "ipython",
    "version": 3
   },
   "file_extension": ".py",
   "mimetype": "text/x-python",
   "name": "python",
   "nbconvert_exporter": "python",
   "pygments_lexer": "ipython3",
   "version": "3.12.1"
  }
 },
 "nbformat": 4,
 "nbformat_minor": 5
}
