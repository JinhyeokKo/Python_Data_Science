{
 "cells": [
  {
   "cell_type": "markdown",
   "id": "4c1934f6-562e-41a4-b968-afff5c21e6a4",
   "metadata": {},
   "source": [
    "# Input_And_Output_History"
   ]
  },
  {
   "cell_type": "markdown",
   "id": "18a3e755-1dbf-4e79-b8f2-c99c4b8e846d",
   "metadata": {},
   "source": [
    "## 입력/출력 이력"
   ]
  },
  {
   "cell_type": "markdown",
   "id": "7aa1c314-0802-4a49-9ea9-2fd80b2b2b09",
   "metadata": {},
   "source": [
    "### In 과 Out 객체"
   ]
  },
  {
   "cell_type": "code",
   "execution_count": 1,
   "id": "42718d85-471a-456e-9de0-fed527a9c337",
   "metadata": {},
   "outputs": [],
   "source": [
    "import math"
   ]
  },
  {
   "cell_type": "code",
   "execution_count": 2,
   "id": "195910f5-bda6-45be-ac47-c94a9b7f7c75",
   "metadata": {},
   "outputs": [
    {
     "data": {
      "text/plain": [
       "0.9092974268256817"
      ]
     },
     "execution_count": 2,
     "metadata": {},
     "output_type": "execute_result"
    }
   ],
   "source": [
    "math.sin(2)"
   ]
  },
  {
   "cell_type": "code",
   "execution_count": 3,
   "id": "9f356fb5-75c1-4c11-b6c5-713bec4f00f8",
   "metadata": {},
   "outputs": [
    {
     "data": {
      "text/plain": [
       "-0.4161468365471424"
      ]
     },
     "execution_count": 3,
     "metadata": {},
     "output_type": "execute_result"
    }
   ],
   "source": [
    "math.cos(2)"
   ]
  },
  {
   "cell_type": "code",
   "execution_count": 4,
   "id": "1b7355f1-4003-4fba-aa7f-594278ca3bdd",
   "metadata": {},
   "outputs": [
    {
     "name": "stdout",
     "output_type": "stream",
     "text": [
      "In: ['', 'import math', 'math.sin(2)', 'math.cos(2)', '# 입력값과 출력값을 자동으로 변수에 저장\\nprint(\"In:\", In)\\nprint(\"Out:\" ,Out)\\n# 명령어를 순서대로 기록하는 리스트 --> 저장된 순서에 따른 출력 가능\\nprint(\"\\\\nIn[1]:\", In[1])\\n# 입력 번호를 출력값과 매핑하는 딕셔너리\\nprint(\"Out[2]:\", Out[2]) # _2로 사용 가능\\nprint(\"\\\\nOut[2] ** 2 + Out[3] ** 2:\", Out[2] ** 2 + Out[3] ** 2)']\n",
      "Out: {2: 0.9092974268256817, 3: -0.4161468365471424}\n",
      "\n",
      "In[1]: import math\n",
      "Out[2]: 0.9092974268256817\n",
      "\n",
      "Out[2] ** 2 + Out[3] ** 2: 1.0\n"
     ]
    }
   ],
   "source": [
    "# 입력값과 출력값을 자동으로 변수에 저장\n",
    "print(\"In:\", In)\n",
    "print(\"Out:\" ,Out)\n",
    "# 명령어를 순서대로 기록하는 리스트 --> 저장된 순서에 따른 출력 가능\n",
    "print(\"\\nIn[1]:\", In[1])\n",
    "# 입력 번호를 출력값과 매핑하는 딕셔너리\n",
    "print(\"Out[2]:\", Out[2]) # _2로 사용 가능\n",
    "print(\"\\nOut[2] ** 2 + Out[3] ** 2:\", Out[2] ** 2 + Out[3] ** 2)"
   ]
  },
  {
   "cell_type": "markdown",
   "id": "0be0ef7f-1fcb-46f0-b95c-73e6a151d194",
   "metadata": {},
   "source": [
    "### 밑줄 표시 단축키와 이전 출력값"
   ]
  },
  {
   "cell_type": "code",
   "execution_count": 5,
   "id": "c681b7a2-7bbc-4605-842f-f376d32d1cba",
   "metadata": {},
   "outputs": [
    {
     "name": "stdout",
     "output_type": "stream",
     "text": [
      "-0.4161468365471424\n",
      "0.9092974268256817\n"
     ]
    }
   ],
   "source": [
    "# 밑줄 개수에 따른 이전 출력값\n",
    "print(_)\n",
    "print(__)"
   ]
  },
  {
   "cell_type": "markdown",
   "id": "98733d8c-fc7a-418b-a3da-7fd9b3eb0d57",
   "metadata": {},
   "source": [
    "### 출력값 숨기기"
   ]
  },
  {
   "cell_type": "code",
   "execution_count": 6,
   "id": "09d063a5-3d9d-4ab1-9823-8f11d0b0eb8b",
   "metadata": {},
   "outputs": [],
   "source": [
    "math.sin(2) + math.cos(2);"
   ]
  },
  {
   "cell_type": "code",
   "execution_count": 7,
   "id": "1f743d61-5885-45e0-865f-7f1e99624ce5",
   "metadata": {},
   "outputs": [
    {
     "data": {
      "text/plain": [
       "False"
      ]
     },
     "execution_count": 7,
     "metadata": {},
     "output_type": "execute_result"
    }
   ],
   "source": [
    "# Out 딕셔너리에도 저장 안됨\n",
    "6 in Out"
   ]
  },
  {
   "cell_type": "markdown",
   "id": "8d8c06e8-746c-42d2-887e-6c22e9dd9fea",
   "metadata": {},
   "source": [
    "### 입력값 여러 개 한 번에 접근"
   ]
  },
  {
   "cell_type": "code",
   "execution_count": null,
   "id": "9909666d-b3c9-4863-9f35-98d023a35859",
   "metadata": {},
   "outputs": [],
   "source": [
    "%history -n 1-3"
   ]
  },
  {
   "cell_type": "code",
   "execution_count": null,
   "id": "7e30e4a6-8b25-4f64-b41c-dc93c5084bd2",
   "metadata": {},
   "outputs": [],
   "source": []
  }
 ],
 "metadata": {
  "kernelspec": {
   "display_name": "Python 3 (ipykernel)",
   "language": "python",
   "name": "python3"
  },
  "language_info": {
   "codemirror_mode": {
    "name": "ipython",
    "version": 3
   },
   "file_extension": ".py",
   "mimetype": "text/x-python",
   "name": "python",
   "nbconvert_exporter": "python",
   "pygments_lexer": "ipython3",
   "version": "3.12.1"
  }
 },
 "nbformat": 4,
 "nbformat_minor": 5
}
