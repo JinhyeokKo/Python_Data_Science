{
 "cells": [
  {
   "cell_type": "markdown",
   "id": "f7adeda3-680e-4f18-be3b-8fd6cc520bfa",
   "metadata": {},
   "source": [
    "# Code_Profiling_And_Time_Measurement"
   ]
  },
  {
   "cell_type": "markdown",
   "id": "463dc06e-60be-4790-9b85-bbb622ae88a4",
   "metadata": {},
   "source": [
    "## 실행 시간 측정"
   ]
  },
  {
   "cell_type": "code",
   "execution_count": 1,
   "id": "8f737070-9d83-4f7c-bb0f-0eb829faaee9",
   "metadata": {},
   "outputs": [
    {
     "name": "stdout",
     "output_type": "stream",
     "text": [
      "403 ns ± 11.6 ns per loop (mean ± std. dev. of 7 runs, 1,000,000 loops each)\n"
     ]
    }
   ],
   "source": [
    "# 한 줄 코드 또는 함수 호출 실행 시간 측정\n",
    "%timeit sum(range(100))"
   ]
  },
  {
   "cell_type": "code",
   "execution_count": 2,
   "id": "5d012a8a-f7e2-4a7e-a500-5d26a10a3e01",
   "metadata": {},
   "outputs": [
    {
     "name": "stdout",
     "output_type": "stream",
     "text": [
      "95.9 ms ± 2.89 ms per loop (mean ± std. dev. of 7 runs, 10 loops each)\n"
     ]
    }
   ],
   "source": [
    "# shell 단위 시간 측정\n",
    "%%timeit\n",
    "total = 0\n",
    "for i in range(1000):\n",
    "    for j in range(1000):\n",
    "        total += i * (-1) ** j"
   ]
  },
  {
   "cell_type": "code",
   "execution_count": 3,
   "id": "6526cddc-9877-41a5-b8b1-e3f5f25854ab",
   "metadata": {},
   "outputs": [
    {
     "name": "stdout",
     "output_type": "stream",
     "text": [
      "276 µs ± 19.7 µs per loop (mean ± std. dev. of 7 runs, 1,000 loops each)\n"
     ]
    }
   ],
   "source": [
    "# 정렬작업을 반복시에는 정확하지 않음 --> %time 사용\n",
    "import random\n",
    "L = [random.random() for i in range(100000)]\n",
    "%timeit L.sort()"
   ]
  },
  {
   "cell_type": "code",
   "execution_count": 4,
   "id": "93720613-306c-4710-bb97-f416beec3db8",
   "metadata": {},
   "outputs": [
    {
     "name": "stdout",
     "output_type": "stream",
     "text": [
      "미정렬 리스트 정렬\n",
      "CPU times: total: 0 ns\n",
      "Wall time: 9.52 ms\n"
     ]
    }
   ],
   "source": [
    "# 시간 비교\n",
    "import random\n",
    "L = [random.random() for i in range(100000)]\n",
    "print(\"미정렬 리스트 정렬\")\n",
    "%time L.sort()"
   ]
  },
  {
   "cell_type": "code",
   "execution_count": 6,
   "id": "ade0b31d-cbe4-4433-82b1-a2eefd53f65f",
   "metadata": {},
   "outputs": [
    {
     "name": "stdout",
     "output_type": "stream",
     "text": [
      "정렬 리스트 정렬\n",
      "CPU times: total: 0 ns\n",
      "Wall time: 2.26 ms\n"
     ]
    }
   ],
   "source": [
    "# 정렬된 리스트여도 %timeit은 가비지 컬렉션 작업을 막아 %time보다 빠름\n",
    "print(\"정렬 리스트 정렬\")\n",
    "%time L.sort()"
   ]
  },
  {
   "cell_type": "code",
   "execution_count": 1,
   "id": "f798cf90-89cd-4c64-979e-0914904ff672",
   "metadata": {},
   "outputs": [
    {
     "name": "stdout",
     "output_type": "stream",
     "text": [
      "CPU times: total: 93.8 ms\n",
      "Wall time: 156 ms\n"
     ]
    }
   ],
   "source": [
    "# %%를 통해 여러 줄 스크립트 측정 가능\n",
    "%%time\n",
    "total = 0\n",
    "for i in range(1000):\n",
    "    for j in range(1000):\n",
    "        total += i * (-1) ** j"
   ]
  },
  {
   "cell_type": "markdown",
   "id": "758aa669-aa09-4c63-8872-dc1b2529c305",
   "metadata": {},
   "source": [
    "## 프로파일링"
   ]
  },
  {
   "cell_type": "code",
   "execution_count": 9,
   "id": "345091c1-086f-4393-b797-f89a7df0e75c",
   "metadata": {},
   "outputs": [],
   "source": [
    "def sum_of_lists(N):\n",
    "    total = 0\n",
    "    for i in range(5):\n",
    "        L = [j ^ (j >> i) for j in range(N)]\n",
    "        total += sum(L)\n",
    "    return total"
   ]
  },
  {
   "cell_type": "code",
   "execution_count": 11,
   "id": "dcf6136c-eb81-4dbd-abdf-4ba8b40a3e93",
   "metadata": {},
   "outputs": [
    {
     "name": "stdout",
     "output_type": "stream",
     "text": [
      " "
     ]
    },
    {
     "data": {
      "text/plain": [
       "         14 function calls in 0.582 seconds\n",
       "\n",
       "   Ordered by: internal time\n",
       "\n",
       "   ncalls  tottime  percall  cumtime  percall filename:lineno(function)\n",
       "        5    0.489    0.098    0.489    0.098 3519952779.py:4(<listcomp>)\n",
       "        5    0.069    0.014    0.069    0.014 {built-in method builtins.sum}\n",
       "        1    0.018    0.018    0.576    0.576 3519952779.py:1(sum_of_lists)\n",
       "        1    0.006    0.006    0.582    0.582 <string>:1(<module>)\n",
       "        1    0.000    0.000    0.582    0.582 {built-in method builtins.exec}\n",
       "        1    0.000    0.000    0.000    0.000 {method 'disable' of '_lsprof.Profiler' objects}"
      ]
     },
     "metadata": {},
     "output_type": "display_data"
    }
   ],
   "source": [
    "# 전체 스크립트 프로파일링\n",
    "%prun sum_of_lists(1000000)"
   ]
  },
  {
   "cell_type": "code",
   "execution_count": 14,
   "id": "16c642b2-f974-4044-a201-ae47146ecb21",
   "metadata": {},
   "outputs": [
    {
     "name": "stdout",
     "output_type": "stream",
     "text": [
      "Collecting line_profiler\n",
      "  Downloading line_profiler-4.1.2-cp311-cp311-win_amd64.whl.metadata (32 kB)\n",
      "Downloading line_profiler-4.1.2-cp311-cp311-win_amd64.whl (123 kB)\n",
      "   ---------------------------------------- 0.0/123.6 kB ? eta -:--:--\n",
      "   ----------------------- ---------------- 71.7/123.6 kB 2.0 MB/s eta 0:00:01\n",
      "   ---------------------------------------- 123.6/123.6 kB 2.4 MB/s eta 0:00:00\n",
      "Installing collected packages: line_profiler\n",
      "Successfully installed line_profiler-4.1.2\n",
      "Note: you may need to restart the kernel to use updated packages.\n"
     ]
    }
   ],
   "source": [
    "pip install line_profiler"
   ]
  },
  {
   "cell_type": "code",
   "execution_count": 15,
   "id": "8bd9ae6f-3734-4bb0-b1b2-bd33e1d84f25",
   "metadata": {},
   "outputs": [],
   "source": [
    "%load_ext line_profiler"
   ]
  },
  {
   "cell_type": "code",
   "execution_count": 16,
   "id": "fe6345e4-3c8a-472b-90d1-83f311a2b51d",
   "metadata": {},
   "outputs": [
    {
     "data": {
      "text/plain": [
       "Timer unit: 1e-07 s\n",
       "\n",
       "Total time: 0.008661 s\n",
       "File: C:\\Users\\jiinn\\AppData\\Local\\Temp\\ipykernel_10312\\3519952779.py\n",
       "Function: sum_of_lists at line 1\n",
       "\n",
       "Line #      Hits         Time  Per Hit   % Time  Line Contents\n",
       "==============================================================\n",
       "     1                                           def sum_of_lists(N):\n",
       "     2         1          7.0      7.0      0.0      total = 0\n",
       "     3         6         45.0      7.5      0.1      for i in range(5):\n",
       "     4         5      85463.0  17092.6     98.7          L = [j ^ (j >> i) for j in range(N)]\n",
       "     5         5       1092.0    218.4      1.3          total += sum(L)\n",
       "     6         1          3.0      3.0      0.0      return total"
      ]
     },
     "metadata": {},
     "output_type": "display_data"
    }
   ],
   "source": [
    "# 라인 단위 프로파일링\n",
    "%lprun -f sum_of_lists sum_of_lists(5000)"
   ]
  },
  {
   "cell_type": "code",
   "execution_count": 17,
   "id": "975a7404-3876-49ba-bd60-fce98158daf2",
   "metadata": {},
   "outputs": [
    {
     "name": "stdout",
     "output_type": "stream",
     "text": [
      "Collecting memory_profiler\n",
      "  Downloading memory_profiler-0.61.0-py3-none-any.whl.metadata (20 kB)\n",
      "Requirement already satisfied: psutil in d:\\anaconda3\\lib\\site-packages (from memory_profiler) (5.9.0)\n",
      "Downloading memory_profiler-0.61.0-py3-none-any.whl (31 kB)\n",
      "Installing collected packages: memory_profiler\n",
      "Successfully installed memory_profiler-0.61.0\n",
      "Note: you may need to restart the kernel to use updated packages.\n"
     ]
    }
   ],
   "source": [
    "pip install memory_profiler"
   ]
  },
  {
   "cell_type": "code",
   "execution_count": 18,
   "id": "2e173cba-2a67-488a-8e77-67bb637a0b24",
   "metadata": {},
   "outputs": [],
   "source": [
    "%load_ext memory_profiler"
   ]
  },
  {
   "cell_type": "code",
   "execution_count": 19,
   "id": "bc5a8730-c530-4a91-b702-8851e93bbb0a",
   "metadata": {},
   "outputs": [
    {
     "name": "stdout",
     "output_type": "stream",
     "text": [
      "peak memory: 180.36 MiB, increment: 77.47 MiB\n"
     ]
    }
   ],
   "source": [
    "# 메모리 사용 프로파일링\n",
    "# timeit과 동일한 방식으로 메모리 츨정\n",
    "%memit sum_of_lists(1000000)"
   ]
  },
  {
   "cell_type": "code",
   "execution_count": 20,
   "id": "6c6d2de8-8496-4708-b0ea-c65112ccf46d",
   "metadata": {},
   "outputs": [
    {
     "name": "stdout",
     "output_type": "stream",
     "text": [
      "Writing mprun_demo.py\n"
     ]
    }
   ],
   "source": [
    "# 모듈 생성\n",
    "%%file mprun_demo.py\n",
    "def sum_of_lists(N):\n",
    "    total = 0\n",
    "    for i in range(5):\n",
    "        L = [j ^ (j >> i) for j in range(N)]\n",
    "        total += sum(L)\n",
    "    return total"
   ]
  },
  {
   "cell_type": "code",
   "execution_count": 22,
   "id": "75444122-0900-4f53-8d9d-53f7ba261b60",
   "metadata": {},
   "outputs": [
    {
     "name": "stdout",
     "output_type": "stream",
     "text": [
      "\n"
     ]
    },
    {
     "data": {
      "text/plain": [
       "Filename: D:\\A\\AI_Programming\\mprun_demo.py\n",
       "\n",
       "Line #    Mem usage    Increment  Occurrences   Line Contents\n",
       "=============================================================\n",
       "     1    105.7 MiB    105.7 MiB           1   def sum_of_lists(N):\n",
       "     2    105.7 MiB      0.0 MiB           1       total = 0\n",
       "     3    146.1 MiB     -0.0 MiB           6       for i in range(5):\n",
       "     4    181.8 MiB -39042623.4 MiB     5000015           L = [j ^ (j >> i) for j in range(N)]\n",
       "     5    146.1 MiB   -115.7 MiB           5           total += sum(L)\n",
       "     6    146.1 MiB     -0.0 MiB           1       return total"
      ]
     },
     "metadata": {},
     "output_type": "display_data"
    }
   ],
   "source": [
    "# %lprun과 동일한 방식으로 메모리 측정 --> 별도의 모듈에만 동작\n",
    "from mprun_demo import sum_of_lists\n",
    "%mprun -f sum_of_lists sum_of_lists(1000000)"
   ]
  }
 ],
 "metadata": {
  "kernelspec": {
   "display_name": "Python 3 (ipykernel)",
   "language": "python",
   "name": "python3"
  },
  "language_info": {
   "codemirror_mode": {
    "name": "ipython",
    "version": 3
   },
   "file_extension": ".py",
   "mimetype": "text/x-python",
   "name": "python",
   "nbconvert_exporter": "python",
   "pygments_lexer": "ipython3",
   "version": "3.12.1"
  }
 },
 "nbformat": 4,
 "nbformat_minor": 5
}
