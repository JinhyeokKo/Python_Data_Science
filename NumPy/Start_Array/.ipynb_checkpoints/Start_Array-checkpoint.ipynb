{
 "cells": [
  {
   "cell_type": "markdown",
   "id": "dadef45b-2a92-4763-aae5-726c19143ded",
   "metadata": {},
   "source": [
    "# Start_Array"
   ]
  },
  {
   "cell_type": "code",
   "execution_count": 1,
   "id": "788c4e38-99f8-4fba-9b55-59484c4de913",
   "metadata": {},
   "outputs": [
    {
     "data": {
      "text/plain": [
       "'1.26.4'"
      ]
     },
     "execution_count": 1,
     "metadata": {},
     "output_type": "execute_result"
    }
   ],
   "source": [
    "import numpy\n",
    "numpy.__version__"
   ]
  },
  {
   "cell_type": "code",
   "execution_count": 2,
   "id": "4fa8e4b7-9aaa-4642-893f-d3e90ff0bf06",
   "metadata": {},
   "outputs": [],
   "source": [
    "import numpy as np"
   ]
  },
  {
   "cell_type": "code",
   "execution_count": 3,
   "id": "2f9437c0-0c46-488e-a517-6892a30bc04e",
   "metadata": {},
   "outputs": [
    {
     "data": {
      "text/plain": [
       "array('i', [0, 1, 2, 3, 4, 5, 6, 7, 8, 9])"
      ]
     },
     "execution_count": 3,
     "metadata": {},
     "output_type": "execute_result"
    }
   ],
   "source": [
    "# 단일 타입의 조밀한 배열(dense array)을 만드는 데 사용\n",
    "import array\n",
    "L = list(range(10))\n",
    "# i는 타입 코드\n",
    "A = array.array('i', L)\n",
    "A"
   ]
  },
  {
   "cell_type": "code",
   "execution_count": 4,
   "id": "3dc54a3c-695f-4de1-825e-51f5a2f6c627",
   "metadata": {},
   "outputs": [
    {
     "data": {
      "text/plain": [
       "array([3.14, 4.  , 2.  , 3.  ])"
      ]
     },
     "execution_count": 4,
     "metadata": {},
     "output_type": "execute_result"
    }
   ],
   "source": [
    "# numpy는 타입이 다를 경우 상위 타입을 가짐(정수의 상위 타입인 부동 소수점으로 변환)\n",
    "np.array([3.14, 4, 2, 3])"
   ]
  },
  {
   "cell_type": "code",
   "execution_count": 5,
   "id": "f4641814-1f16-4d5a-aa21-7b72f76faf59",
   "metadata": {},
   "outputs": [
    {
     "data": {
      "text/plain": [
       "array([1., 2., 3., 4.], dtype=float32)"
      ]
     },
     "execution_count": 5,
     "metadata": {},
     "output_type": "execute_result"
    }
   ],
   "source": [
    "# 타입을 명시적으로 선언\n",
    "np.array([1, 2, 3, 4], dtype = 'float32')"
   ]
  },
  {
   "cell_type": "code",
   "execution_count": 6,
   "id": "069d68e9-1858-4eb1-9544-cfb95052f6ed",
   "metadata": {},
   "outputs": [
    {
     "data": {
      "text/plain": [
       "array([[2, 3, 4],\n",
       "       [4, 5, 6],\n",
       "       [6, 7, 8]])"
      ]
     },
     "execution_count": 6,
     "metadata": {},
     "output_type": "execute_result"
    }
   ],
   "source": [
    "#리스트를 중첩하여 다차원 배열을 초기화\n",
    "np.array([range(i, i + 3) for i in [2, 4, 6]]) # list comprehenshion"
   ]
  },
  {
   "cell_type": "markdown",
   "id": "1ef769ea-614e-4634-85a0-b8d2d4d4cb52",
   "metadata": {},
   "source": [
    "## 처음부터 배열 생성"
   ]
  },
  {
   "cell_type": "code",
   "execution_count": 7,
   "id": "8b589972-eff2-45f8-9ef1-78f4a93c88aa",
   "metadata": {},
   "outputs": [
    {
     "data": {
      "text/plain": [
       "array([0, 0, 0, 0, 0, 0, 0, 0, 0, 0])"
      ]
     },
     "execution_count": 7,
     "metadata": {},
     "output_type": "execute_result"
    }
   ],
   "source": [
    "# 0으로 채운 길이 10의 정수 배열 만들기\n",
    "np.zeros(10, dtype = int)"
   ]
  },
  {
   "cell_type": "code",
   "execution_count": 8,
   "id": "2a0ca69d-cd57-4a5e-b958-5c6d4e9f4047",
   "metadata": {},
   "outputs": [
    {
     "data": {
      "text/plain": [
       "array([[1., 1., 1., 1., 1.],\n",
       "       [1., 1., 1., 1., 1.],\n",
       "       [1., 1., 1., 1., 1.]])"
      ]
     },
     "execution_count": 8,
     "metadata": {},
     "output_type": "execute_result"
    }
   ],
   "source": [
    "# 1로 채운 3x5 부동 소수점 배열 만들기\n",
    "np.ones((3, 5), dtype=float)"
   ]
  },
  {
   "cell_type": "code",
   "execution_count": 9,
   "id": "b13fc4b5-2986-429a-b870-0d615cb3ac86",
   "metadata": {},
   "outputs": [
    {
     "data": {
      "text/plain": [
       "array([[3.14, 3.14, 3.14, 3.14, 3.14],\n",
       "       [3.14, 3.14, 3.14, 3.14, 3.14],\n",
       "       [3.14, 3.14, 3.14, 3.14, 3.14]])"
      ]
     },
     "execution_count": 9,
     "metadata": {},
     "output_type": "execute_result"
    }
   ],
   "source": [
    "# 3.14로 채운 3x5 배열 만들기\n",
    "np.full((3, 5), 3.14)"
   ]
  },
  {
   "cell_type": "code",
   "execution_count": 10,
   "id": "e7fa5d71-2ac0-4cd8-96b8-7b1db8f20fcb",
   "metadata": {},
   "outputs": [
    {
     "data": {
      "text/plain": [
       "array([ 0,  2,  4,  6,  8, 10, 12, 14, 16, 18])"
      ]
     },
     "execution_count": 10,
     "metadata": {},
     "output_type": "execute_result"
    }
   ],
   "source": [
    "# 선형 수열로 채운 배열 만들기\n",
    "# 0에서 시작해 2씩 더해 20까지 채움\n",
    "# 내장 함수인 range()와 유사\n",
    "np.arange(0, 20, 2)"
   ]
  },
  {
   "cell_type": "code",
   "execution_count": 11,
   "id": "c3f15ea8-7f0d-4382-b2fa-ceba3db4c8a5",
   "metadata": {},
   "outputs": [
    {
     "data": {
      "text/plain": [
       "array([0.  , 0.25, 0.5 , 0.75, 1.  ])"
      ]
     },
     "execution_count": 11,
     "metadata": {},
     "output_type": "execute_result"
    }
   ],
   "source": [
    "# 0과 1 사이에 일정한 간격을 가진 다섯 개의 값으로 채운 배열 만들기\n",
    "np.linspace(0, 1, 5)"
   ]
  },
  {
   "cell_type": "code",
   "execution_count": 12,
   "id": "9cb44bb8-d8c0-4472-855f-17156d1d437e",
   "metadata": {},
   "outputs": [
    {
     "data": {
      "text/plain": [
       "array([[0.49953877, 0.50489739, 0.83171199],\n",
       "       [0.46535972, 0.91412414, 0.74109956],\n",
       "       [0.92264159, 0.55546554, 0.33409616]])"
      ]
     },
     "execution_count": 12,
     "metadata": {},
     "output_type": "execute_result"
    }
   ],
   "source": [
    "#균등하게 분포된 3x3 배열 만들기\n",
    "# 0과 1 사이의 난수로 채움\n",
    "np.random.random((3,3))"
   ]
  },
  {
   "cell_type": "code",
   "execution_count": 13,
   "id": "96d81d9a-a23e-4f8e-9dac-a089a224f584",
   "metadata": {},
   "outputs": [
    {
     "data": {
      "text/plain": [
       "array([[ 0.47755455, -0.01663067, -1.96895871],\n",
       "       [ 0.20035553, -1.71585232,  0.82711553],\n",
       "       [ 0.45542781,  1.25252053,  0.27398803]])"
      ]
     },
     "execution_count": 13,
     "metadata": {},
     "output_type": "execute_result"
    }
   ],
   "source": [
    "# 정규 분포(평균 = 0, 표준 편차 = 1)의 난수로 채운 3x3 배열 만들기\n",
    "np.random.normal(0, 1, (3, 3))"
   ]
  },
  {
   "cell_type": "code",
   "execution_count": 14,
   "id": "f3be9ea3-2e4e-46cd-90c8-d8f458e79d22",
   "metadata": {},
   "outputs": [
    {
     "data": {
      "text/plain": [
       "array([[5, 7, 6],\n",
       "       [3, 7, 5],\n",
       "       [5, 6, 1]])"
      ]
     },
     "execution_count": 14,
     "metadata": {},
     "output_type": "execute_result"
    }
   ],
   "source": [
    "# [0, 10] 구간의 임의의 정수로 채운 3x3 배열 만들기\n",
    "np.random.randint(0, 10, (3, 3))"
   ]
  },
  {
   "cell_type": "code",
   "execution_count": 15,
   "id": "27a4e35c-ccea-42b0-a1f4-177e02929a09",
   "metadata": {},
   "outputs": [
    {
     "data": {
      "text/plain": [
       "array([[1., 0., 0.],\n",
       "       [0., 1., 0.],\n",
       "       [0., 0., 1.]])"
      ]
     },
     "execution_count": 15,
     "metadata": {},
     "output_type": "execute_result"
    }
   ],
   "source": [
    "# 3x3 단위 행렬 만들기\n",
    "np.eye(3)"
   ]
  },
  {
   "cell_type": "code",
   "execution_count": 16,
   "id": "84d3ceba-6ea5-4e02-8a4e-a63129f68bca",
   "metadata": {},
   "outputs": [
    {
     "data": {
      "text/plain": [
       "array([1., 1., 1.])"
      ]
     },
     "execution_count": 16,
     "metadata": {},
     "output_type": "execute_result"
    }
   ],
   "source": [
    "# 세 개의 정수를 가지는 초기화되지 않은 배열 만들기\n",
    "# 값은 해당 메모리 위치에 이미 존재하고 있는 값으로 채움\n",
    "np.empty(3)"
   ]
  },
  {
   "cell_type": "markdown",
   "id": "00aa8e55-166b-4cb6-a640-5e352d324d23",
   "metadata": {},
   "source": [
    "## NumPy 표준 데이터 타입"
   ]
  },
  {
   "cell_type": "markdown",
   "id": "afa3b360-10ad-473a-a039-6991cacc71df",
   "metadata": {},
   "source": [
    "| 데이터 타입 | 설명  |\n",
    "| --- | --- |\n",
    "| bool_ | 1바이트로 저장된 부울 값(true & false) |\n",
    "| int_ | 기본 정수 타입(일반적으로 C의 long과 동일) |\n",
    "| intc | C의 int와 동일(일반적으로 C의 int와 동일) |\n",
    "| intp | 인덱싱에 사용되는 정수(일반적으로 C의 ssize_t와 동일) |\n",
    "| int8 | 바이트(-128 ~ 127) |\n",
    "| int16 | 정수(-32768 ~ 32767) |\n",
    "| int32 | 정수(-2^31 ~ 2^31-1) |\n",
    "| int64 | 정수(-2^63 ~ 2^63-1) |\n",
    "| uint8 | 부호 없는 정수(0 ~ 255) |\n",
    "| uint16 | 부호 없는 정수(0 ~ 65535) |\n",
    "| uint32 | 부호 없는 정수(0 ~ 2^32-1) |\n",
    "| uint64 | 부호 없는 정수(0 ~ 2^64-1) |\n",
    "| float_ | float64의 약칭 |\n",
    "| float16 | 반 정밀도 부동 소수점: 부호 비트, 5비트 지수, 10비트 가수 |\n",
    "| float32 | 단 정밀도 부동 소수점: 부호 비트, 8비트 지수, 23비트 가수 |\n",
    "| float64 | 배정밀도 부동 소수점: 부호 비트, 11비트 지수, 52비트 가수 |\n",
    "| complex_ | complex128의 약칭 |\n",
    "| complex64 | 복소수, 두 개의 32비트 부동 소수점으로 표현 |\n",
    "| complex128 | 복소수, 두 개의 64비트 부동 소수점으로 표현 |\n"
   ]
  },
  {
   "cell_type": "code",
   "execution_count": null,
   "id": "32c7348f-0aa2-470b-a400-66c68166fb26",
   "metadata": {},
   "outputs": [],
   "source": []
  }
 ],
 "metadata": {
  "kernelspec": {
   "display_name": "Python 3 (ipykernel)",
   "language": "python",
   "name": "python3"
  },
  "language_info": {
   "codemirror_mode": {
    "name": "ipython",
    "version": 3
   },
   "file_extension": ".py",
   "mimetype": "text/x-python",
   "name": "python",
   "nbconvert_exporter": "python",
   "pygments_lexer": "ipython3",
   "version": "3.12.1"
  }
 },
 "nbformat": 4,
 "nbformat_minor": 5
}
