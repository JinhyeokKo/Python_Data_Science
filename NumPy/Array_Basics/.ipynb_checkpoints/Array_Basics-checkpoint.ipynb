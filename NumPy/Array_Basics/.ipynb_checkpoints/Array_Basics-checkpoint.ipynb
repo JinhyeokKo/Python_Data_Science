{
 "cells": [
  {
   "cell_type": "markdown",
   "id": "e1f50be8-abe6-4c53-a882-50e504774c49",
   "metadata": {},
   "source": [
    "# Array_Basics"
   ]
  },
  {
   "cell_type": "markdown",
   "id": "c0b54624-8329-472b-a37b-cdb4982b14f1",
   "metadata": {},
   "source": [
    "## NumPy 배열 속성 지정"
   ]
  },
  {
   "cell_type": "code",
   "execution_count": 1,
   "id": "2c3b7daa-48e1-4286-bd09-f1b8221a4a7f",
   "metadata": {},
   "outputs": [],
   "source": [
    "import numpy as np\n",
    "np.random.seed(0) # 재현 가능성을 위한 시드 값\n",
    "\n",
    "x1 = np.random.randint(10, size = 6) # 1차원 배열\n",
    "x2 = np.random.randint(10, size = (3, 4)) # 2차원 배열\n",
    "x3 = np.random.randint(10, size = (3, 4, 5)) # 3차원 배열"
   ]
  },
  {
   "cell_type": "code",
   "execution_count": 2,
   "id": "9daf8cf9-9f0c-44f6-ad48-15f4f485a4cc",
   "metadata": {},
   "outputs": [
    {
     "name": "stdout",
     "output_type": "stream",
     "text": [
      "x3.ndim:   3\n",
      "x3.shape:  (3, 4, 5)\n",
      "x3.size:   60\n",
      "x3.dtype:  int32\n"
     ]
    }
   ],
   "source": [
    "print(\"x3.ndim:  \", x3.ndim)  # 차원의 개수\n",
    "print(\"x3.shape: \", x3.shape) # 각 차원의 크기\n",
    "print(\"x3.size:  \", x3.size)  # 전체 배열의 크기\n",
    "print(\"x3.dtype: \", x3.dtype) # 각 요소의 타입"
   ]
  },
  {
   "cell_type": "markdown",
   "id": "befa6212-aaa5-4854-aedb-75c2969e06d4",
   "metadata": {},
   "source": [
    "## 배열 인덱싱: 단일 요소에 접근"
   ]
  },
  {
   "cell_type": "code",
   "execution_count": 3,
   "id": "6e7fd747-d886-4f93-894c-67cfd0c0fbf5",
   "metadata": {},
   "outputs": [
    {
     "name": "stdout",
     "output_type": "stream",
     "text": [
      "x1:  [5 0 3 3 7 9] \n",
      "\n",
      "x1[0]:  5\n",
      "x1[4]:  7\n"
     ]
    }
   ],
   "source": [
    "# 배열의 시작부터 인덱싱\n",
    "print(\"x1: \",x1, \"\\n\")\n",
    "print(\"x1[0]: \", x1[0])\n",
    "print(\"x1[4]: \", x1[4])"
   ]
  },
  {
   "cell_type": "code",
   "execution_count": 4,
   "id": "6ba2d374-2842-4354-b405-a24b34f86be0",
   "metadata": {},
   "outputs": [
    {
     "name": "stdout",
     "output_type": "stream",
     "text": [
      "x1[-1]:  9\n",
      "x1[-2]:  7\n"
     ]
    }
   ],
   "source": [
    "# 배열의 끝에서부터 인덱싱\n",
    "print(\"x1[-1]: \", x1[-1])\n",
    "print(\"x1[-2]: \", x1[-2])"
   ]
  },
  {
   "cell_type": "code",
   "execution_count": 5,
   "id": "cd25b7fb-da74-4548-97a5-39f76d5881d1",
   "metadata": {},
   "outputs": [
    {
     "name": "stdout",
     "output_type": "stream",
     "text": [
      "x2: \n",
      " [[3 5 2 4]\n",
      " [7 6 8 8]\n",
      " [1 6 7 7]] \n",
      "\n",
      "x2[0, 0]:   3\n",
      "x2[2, 0]:   1\n",
      "x2[2, -1]:  7\n"
     ]
    }
   ],
   "source": [
    "# 다차원 배열에서 콤마로 구분된 인덱스 튜플을 이용해 항목에 접근\n",
    "print(\"x2: \\n\", x2, \"\\n\")\n",
    "\n",
    "print(\"x2[0, 0]:  \", x2[0, 0])\n",
    "print(\"x2[2, 0]:  \", x2[2, 0])\n",
    "print(\"x2[2, -1]: \", x2[2, -1])"
   ]
  },
  {
   "cell_type": "code",
   "execution_count": 6,
   "id": "b58e7cea-e94f-4d79-a593-5cd9b0e6d923",
   "metadata": {},
   "outputs": [
    {
     "name": "stdout",
     "output_type": "stream",
     "text": [
      "x2: \n",
      " [[12  5  2  4]\n",
      " [ 7  6  8  8]\n",
      " [ 1  6  7  7]] \n",
      "\n",
      "x2: \n",
      " [[3 5 2 4]\n",
      " [7 6 8 8]\n",
      " [1 6 7 7]]\n"
     ]
    }
   ],
   "source": [
    "# 인덱스 표기법을 이용한 값 수정\n",
    "x2[0, 0] = 12\n",
    "print(\"x2: \\n\", x2, \"\\n\")\n",
    "\n",
    "# 인트타입을 가져 소수점 이하 절삭 --> 고정 타입\n",
    "x2[0, 0] = 3.1415\n",
    "print(\"x2: \\n\", x2)"
   ]
  },
  {
   "cell_type": "markdown",
   "id": "25e20675-bb90-44af-8baa-c365372b3f00",
   "metadata": {},
   "source": [
    "## 배열 슬라이싱: 하위 배열 접근"
   ]
  },
  {
   "cell_type": "markdown",
   "id": "3282d9a5-388d-4caf-b517-95ecfffa75c5",
   "metadata": {},
   "source": [
    "### 1차원 하위 배열 슬라이싱"
   ]
  },
  {
   "cell_type": "code",
   "execution_count": 7,
   "id": "7cafeb00-bbda-4d18-8bd1-1ea5a87aafaa",
   "metadata": {},
   "outputs": [
    {
     "name": "stdout",
     "output_type": "stream",
     "text": [
      "x:  [0 1 2 3 4 5 6 7 8 9] \n",
      "\n",
      "x[:5]:    [0 1 2 3 4]\n",
      "x[5:]:    [5 6 7 8 9]\n",
      "x[4:7]:   [4 5 6]\n",
      "x[::2]:   [0 2 4 6 8]\n",
      "x[1::2]:  [1 3 5 7 9]\n"
     ]
    }
   ],
   "source": [
    "x = np.arange(10)\n",
    "\n",
    "print(\"x: \", x, \"\\n\")\n",
    "print(\"x[:5]:   \", x[:5])     # 첫 5개 요소\n",
    "print(\"x[5:]:   \", x[5:])     # 인덱스 5 다음 요소\n",
    "print(\"x[4:7]:  \", x[4:7])   # 인덱스 4이상 7미만까지의 요소\n",
    "print(\"x[::2]:  \", x[::2])   # 하나 걸러 하나씩의 요소\n",
    "print(\"x[1::2]: \", x[1::2]) # 인덱스 1에서 시작해 하나 걸러 하나씩 요소"
   ]
  },
  {
   "cell_type": "markdown",
   "id": "68298bef-9ba3-4950-9b81-7db54b82500c",
   "metadata": {},
   "source": [
    "### 다차원 하위 배열 슬라이싱"
   ]
  },
  {
   "cell_type": "code",
   "execution_count": 8,
   "id": "4a5f2773-32ce-4c27-8199-435d242c9f91",
   "metadata": {},
   "outputs": [
    {
     "name": "stdout",
     "output_type": "stream",
     "text": [
      "x2: \n",
      " [[3 5 2 4]\n",
      " [7 6 8 8]\n",
      " [1 6 7 7]] \n",
      "\n",
      "x2[:2, :3]: \n",
      " [[3 5 2]\n",
      " [7 6 8]] \n",
      "\n",
      "x2[:3, ::2]: \n",
      " [[3 2]\n",
      " [7 8]\n",
      " [1 7]] \n",
      "\n",
      "x2[::-1, ::-1]: \n",
      " [[7 7 6 1]\n",
      " [8 8 6 7]\n",
      " [4 2 5 3]]\n",
      "\n",
      "x2[:, 0]:  [3 7 1]\n",
      "x2[:, 0]:  [3 5 2 4]\n",
      "x2[2[0]:  [3 5 2 4]\n"
     ]
    }
   ],
   "source": [
    "print(\"x2: \\n\", x2, \"\\n\")\n",
    "print(\"x2[:2, :3]: \\n\", x2[:2, :3], \"\\n\")   # 두 개의 행, 세 개의 열\n",
    "print(\"x2[:3, ::2]: \\n\", x2[:3, ::2], \"\\n\") # 모든 행, 한 열 걸러 하나씩\n",
    "print(\"x2[::-1, ::-1]: \\n\", x2[::-1, ::-1]) # 하위 배열 차원 역으로 변환\n",
    "\n",
    "print(\"\\nx2[:, 0]: \", x2[:, 0]) # 첫 번째 열\n",
    "print(\"x2[:, 0]: \", x2[0, :]) # 첫 번째 행\n",
    "print(\"x2[2[0]: \", x2[0])     # x2[0, :]와 동일"
   ]
  },
  {
   "cell_type": "markdown",
   "id": "ef649d62-fc34-4128-af1e-3da099a49aea",
   "metadata": {},
   "source": [
    "### 배열 데이터의 사본이 아닌 뷰를 반환"
   ]
  },
  {
   "cell_type": "code",
   "execution_count": 9,
   "id": "f2a93da9-6ba7-4a4a-9003-173d7643edb5",
   "metadata": {},
   "outputs": [
    {
     "name": "stdout",
     "output_type": "stream",
     "text": [
      "변경 전 x2 : \n",
      " [[3 5 2 4]\n",
      " [7 6 8 8]\n",
      " [1 6 7 7]] \n",
      "\n",
      "변경 전 x2_sub: \n",
      " [[3 5]\n",
      " [7 6]] \n",
      "\n",
      "변경 후 x2_sub: \n",
      " [[99  5]\n",
      " [ 7  6]] \n",
      "\n",
      "변경 후 x2 : \n",
      " [[99  5  2  4]\n",
      " [ 7  6  8  8]\n",
      " [ 1  6  7  7]]\n"
     ]
    }
   ],
   "source": [
    "print(\"변경 전 x2 : \\n\", x2, \"\\n\")\n",
    "x2_sub = x2[:2, :2]\n",
    "print(\"변경 전 x2_sub: \\n\", x2_sub, \"\\n\")\n",
    "\n",
    "x2_sub[0, 0] = 99\n",
    "\n",
    "print(\"변경 후 x2_sub: \\n\", x2_sub, \"\\n\")\n",
    "print(\"변경 후 x2 : \\n\", x2) # 하위 배열을 수정하면 원본 배열도 변경\n",
    "# 큰 데이터세트를 다룰 때 기반 데이터 버퍼를 복사하지 않아도 접근 처리 가능"
   ]
  },
  {
   "cell_type": "markdown",
   "id": "f2b32ad8-809d-44c0-abb2-7c034404df59",
   "metadata": {},
   "source": [
    "### 배열 사본 만들기"
   ]
  },
  {
   "cell_type": "code",
   "execution_count": 10,
   "id": "f724a371-60f1-49d6-bc77-8620ba1af9bd",
   "metadata": {},
   "outputs": [
    {
     "name": "stdout",
     "output_type": "stream",
     "text": [
      "수정 전 x2_sub_copy: \n",
      " [[99  5]\n",
      " [ 7  6]]\n",
      "\n",
      "수정 후 x2_sub_copy: \n",
      " [[33  5]\n",
      " [ 7  6]]\n",
      "\n",
      "x2: \n",
      " [[99  5  2  4]\n",
      " [ 7  6  8  8]\n",
      " [ 1  6  7  7]]\n"
     ]
    }
   ],
   "source": [
    "x2_sub_copy = x2[:2, :2].copy()\n",
    "print(\"수정 전 x2_sub_copy: \\n\", x2_sub_copy)\n",
    "\n",
    "# 수정 후에도 원본 배열 유지\n",
    "x2_sub_copy[0, 0] = 33\n",
    "print(\"\\n수정 후 x2_sub_copy: \\n\", x2_sub_copy)\n",
    "print(\"\\nx2: \\n\", x2)"
   ]
  },
  {
   "cell_type": "markdown",
   "id": "fd70b7c7-2b81-47fa-8e6d-635f60ce9f7a",
   "metadata": {},
   "source": [
    "## 배열 재구조화"
   ]
  },
  {
   "cell_type": "code",
   "execution_count": 11,
   "id": "87e83360-1129-49c7-9d7c-4af95110c7c4",
   "metadata": {},
   "outputs": [
    {
     "data": {
      "text/plain": [
       "array([[1, 2, 3],\n",
       "       [4, 5, 6],\n",
       "       [7, 8, 9]])"
      ]
     },
     "execution_count": 11,
     "metadata": {},
     "output_type": "execute_result"
    }
   ],
   "source": [
    "# 배열의 형상 변환\n",
    "# 기본적으로 뷰를 사용하나, 연속되지 않은 메모리 버퍼일 경우 X\n",
    "grid = np.arange(1, 10).reshape((3, 3))\n",
    "grid"
   ]
  },
  {
   "cell_type": "code",
   "execution_count": 12,
   "id": "79216312-8e4e-45e5-989b-2ff04025b1bc",
   "metadata": {},
   "outputs": [
    {
     "name": "stdout",
     "output_type": "stream",
     "text": [
      "x.reshape((1, 3)):  [[1 2 3]]\n",
      "x[np.newaxis, :]:  [[1 2 3]]\n",
      "\n",
      "x.reshape((3, 1)):\n",
      " [[1]\n",
      " [2]\n",
      " [3]]\n",
      "\n",
      "x[:, np.newaxis]:\n",
      " [[1]\n",
      " [2]\n",
      " [3]]\n"
     ]
    }
   ],
   "source": [
    "# 1차원 배열을 2차원 행 혹은 열 매트릭스로 전환\n",
    "x = np.array([1, 2, 3])\n",
    "\n",
    "# 행 벡터\n",
    "print(\"x.reshape((1, 3)): \", x.reshape((1, 3)))\n",
    "print(\"x[np.newaxis, :]: \", x[np.newaxis, :])\n",
    "\n",
    "# 열 벡터\n",
    "print(\"\\nx.reshape((3, 1)):\\n\", x.reshape((3, 1)))\n",
    "print(\"\\nx[:, np.newaxis]:\\n\", x[:, np.newaxis])"
   ]
  },
  {
   "cell_type": "markdown",
   "id": "2adf221f-826a-4a63-9335-cb771f338388",
   "metadata": {},
   "source": [
    "## 배열 연결"
   ]
  },
  {
   "cell_type": "code",
   "execution_count": 13,
   "id": "948f6c99-b2ba-492e-9ba7-aa37ffe3217b",
   "metadata": {},
   "outputs": [
    {
     "name": "stdout",
     "output_type": "stream",
     "text": [
      "np.concatenate([x, y, z]):\n",
      " [ 1  2  3 33 32 31 30 77 78]\n",
      "\n",
      "np.concatenate([grid_x, grid_y]): \n",
      " [[ 1  2  3]\n",
      " [ 4  5  6]\n",
      " [12 21 22]\n",
      " [14 15 16]\n",
      " [33 32 31]]\n",
      "\n",
      "np.vstack([x, grid_x]):\n",
      " [[1 2 3]\n",
      " [1 2 3]\n",
      " [4 5 6]]\n",
      "\n",
      "np.hstack([grid x, grid_z]:\n",
      " [[ 1  2  3 99]\n",
      " [ 4  5  6 99]]\n"
     ]
    }
   ],
   "source": [
    "# 1차원 배열의 연결\n",
    "x = np.array([1, 2, 3])\n",
    "y = np.array([33, 32, 31, 30])\n",
    "z = [77, 78]\n",
    "print(\"np.concatenate([x, y, z]):\\n\", np.concatenate([x, y, z]))\n",
    "\n",
    "# 2차원 배열의 연결 --> 첫 번째 축을 따라 연결\n",
    "grid_x = np.array([[1, 2, 3], [4, 5, 6]])\n",
    "grid_y = np.array([[12, 21, 22], [14, 15, 16], [33, 32, 31]])\n",
    "print(\"\\nnp.concatenate([grid_x, grid_y]): \\n\", np.concatenate([grid_x, grid_y]))\n",
    "\n",
    "# 혼합된 차원의 배열 연결\n",
    "print(\"\\nnp.vstack([x, grid_x]):\\n\",np.vstack([x, grid_x])) # 배열을 수직으로 쌓음\n",
    "grid_z = np.array([[99], [99]])\n",
    "print(\"\\nnp.hstack([grid x, grid_z]:\\n\", np.hstack([grid_x, grid_z])) #배열을 수평으로 쌓음"
   ]
  },
  {
   "cell_type": "markdown",
   "id": "a72f6715-8476-49bd-869c-d25463c06a2b",
   "metadata": {},
   "source": [
    "## 배열 분할"
   ]
  },
  {
   "cell_type": "code",
   "execution_count": 14,
   "id": "cca16410-4604-45e9-a15a-287431d4156a",
   "metadata": {},
   "outputs": [
    {
     "name": "stdout",
     "output_type": "stream",
     "text": [
      "x:  [1, 2, 3, 11, 12, 21, 22, 23]\n",
      "x1:  [1 2 3]\n",
      "x2:  [11 12]\n",
      "x3:  [21 22 23]\n",
      "\n",
      "grid:\n",
      " [[ 0  1  2  3]\n",
      " [ 4  5  6  7]\n",
      " [ 8  9 10 11]\n",
      " [12 13 14 15]]\n",
      "\n",
      "upper:\n",
      " [[0 1 2 3]\n",
      " [4 5 6 7]]\n",
      "\n",
      "lpwer:\n",
      " [[ 8  9 10 11]\n",
      " [12 13 14 15]]\n",
      "\n",
      "left:\n",
      " [[ 0  1]\n",
      " [ 4  5]\n",
      " [ 8  9]\n",
      " [12 13]]\n",
      "\n",
      "right:\n",
      " [[ 2  3]\n",
      " [ 6  7]\n",
      " [10 11]\n",
      " [14 15]]\n"
     ]
    }
   ],
   "source": [
    "# 1차원 배열의 분할\n",
    "x = [1, 2, 3, 11, 12, 21, 22, 23]\n",
    "x1, x2, x3 = np.split(x, [3, 5])\n",
    "print(\"x: \", x)\n",
    "print(\"x1: \", x1)\n",
    "print(\"x2: \", x2)\n",
    "print(\"x3: \", x3)\n",
    "\n",
    "grid = np.arange(16).reshape((4, 4))\n",
    "print(\"\\ngrid:\\n\", grid)\n",
    "\n",
    "# 배열을 수직으로 분할\n",
    "upper, lower = np.vsplit(grid, [2])\n",
    "print(\"\\nupper:\\n\", upper)\n",
    "print(\"\\nlpwer:\\n\", lower)\n",
    "\n",
    "# 배열을 수평으로 분할\n",
    "left, right = np.hsplit(grid, [2])\n",
    "print(\"\\nleft:\\n\", left)\n",
    "print(\"\\nright:\\n\", right)"
   ]
  }
 ],
 "metadata": {
  "kernelspec": {
   "display_name": "Python 3 (ipykernel)",
   "language": "python",
   "name": "python3"
  },
  "language_info": {
   "codemirror_mode": {
    "name": "ipython",
    "version": 3
   },
   "file_extension": ".py",
   "mimetype": "text/x-python",
   "name": "python",
   "nbconvert_exporter": "python",
   "pygments_lexer": "ipython3",
   "version": "3.12.1"
  }
 },
 "nbformat": 4,
 "nbformat_minor": 5
}
