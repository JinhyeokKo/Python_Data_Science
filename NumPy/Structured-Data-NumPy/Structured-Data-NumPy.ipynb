{
 "cells": [
  {
   "cell_type": "markdown",
   "id": "ba882911-9f27-4095-b44d-ce0875296c45",
   "metadata": {},
   "source": [
    "# Structured-Data-NumPy"
   ]
  },
  {
   "cell_type": "markdown",
   "id": "27e181af-6846-490f-9ef5-856a60d313f9",
   "metadata": {},
   "source": [
    "## 구조화된 배열 만들기"
   ]
  },
  {
   "cell_type": "markdown",
   "id": "0463f513-9209-4ec8-8165-8e35d12c43db",
   "metadata": {},
   "source": [
    "### 복합 데이터 타입"
   ]
  },
  {
   "cell_type": "code",
   "execution_count": 1,
   "id": "07b219f0-2428-4dca-806a-8e0b71a7f546",
   "metadata": {},
   "outputs": [
    {
     "name": "stdout",
     "output_type": "stream",
     "text": [
      "data.dtype:  [('name', '<U10'), ('age', '<i4'), ('weight', '<f8')]\n",
      "\n",
      "data:\n",
      " [('Alice', 25, 55. ) ('Bob', 45, 85.5) ('Cathy', 37, 68. )\n",
      " ('Doug', 19, 61.5)]\n",
      "\n",
      "data['name']: ['Alice' 'Bob' 'Cathy' 'Doug']\n",
      "data[0]: ('Alice', 25, 55.)\n",
      "data[-1]['name']: Doug\n",
      "data[data['age'] < 30]['name']: ['Alice' 'Doug']\n"
     ]
    }
   ],
   "source": [
    "import numpy as np\n",
    "\n",
    "name = ['Alice', 'Bob', 'Cathy', 'Doug']\n",
    "age = [25, 45, 37, 19]\n",
    "weight = [55.0, 85.5, 68.0, 61.5]\n",
    "\n",
    "# 딕셔너리\n",
    "# U10 --> 최대 길이 10을 갖는 유니코드 문자열\n",
    "# i4 --> 4바이트(32비트) 정수\n",
    "# f8 --> 8바이트(64비트) 부동 소수점\n",
    "data = np.zeros(4, dtype={'names':('name', 'age', 'weight'), 'formats':('U10', 'i4', 'f8')})\n",
    "print(\"data.dtype: \", data.dtype)\n",
    "\n",
    "data['name'] = name\n",
    "data['age'] = age\n",
    "data['weight'] = weight\n",
    "print(\"\\ndata:\\n\", data)\n",
    "\n",
    "# 특정 값 가져오기\n",
    "print(\"\\ndata['name']:\", data['name'])\n",
    "print(\"data[0]:\", data[0])\n",
    "print(\"data[-1]['name']:\", data[-1]['name'])\n",
    "print(\"data[data['age'] < 30]['name']:\", data[data['age'] < 30]['name'])"
   ]
  },
  {
   "cell_type": "code",
   "execution_count": 2,
   "id": "b6d0196f-6363-4ded-9ffb-2a20a936edd6",
   "metadata": {},
   "outputs": [
    {
     "data": {
      "text/plain": [
       "dtype([('f0', 'S10'), ('f1', '<i4'), ('f2', '<f8')])"
      ]
     },
     "execution_count": 2,
     "metadata": {},
     "output_type": "execute_result"
    }
   ],
   "source": [
    "# 숫자 타입 --> 파이썬 타입이나 NumPy dtype으로 지정 가능\n",
    "np.dtype({'names':('name', 'age', 'weight'), 'formats':((np.str_, 10), int, np.float32)})\n",
    "# 튜플 리스트\n",
    "np.dtype([('name', 'S10'), ('age', 'i4'), ('weight', 'f8')])\n",
    "# 타입만 지정\n",
    "np.dtype('S10,i4,f8')"
   ]
  },
  {
   "cell_type": "markdown",
   "id": "c8f7d2ef-5432-48d0-b9f0-32653a6607e9",
   "metadata": {},
   "source": [
    "### NumPy 데이터 타입"
   ]
  },
  {
   "cell_type": "markdown",
   "id": "ef2a7a40-b1c3-4a94-9faf-97c4d17c6dd4",
   "metadata": {},
   "source": [
    "| 문자    | 설명           | 예제                           |\n",
    "| ---------    | -----------           | -------                           | \n",
    "| `'b'`        | Byte(바이트)| `np.dtype('b')`                   |\n",
    "| `'i'`        | Signed integer(부호 있는 정수)| `np.dtype('i4') == np.int32`      |\n",
    "| `'u'`        | Unsigned integer(부호 없는 정수)| `np.dtype('u1') == np.uint8`      |\n",
    "| `'f'`        | Floating point(부동 소수점)| `np.dtype('f8') == np.int64`      |\n",
    "| `'c'`        | Complex floating point(복소수 부동 소수점)| `np.dtype('c16') == np.complex128`|\n",
    "| `'S'`, `'a'` | String(문자열)                | `np.dtype('S5')`                  |\n",
    "| `'U'`        | Unicode string(유니코드 문자열)| `np.dtype('U') == np.str_`        |\n",
    "| `'V'`        | Raw data (void)(원시데이터)| `np.dtype('V') == np.void`        |"
   ]
  },
  {
   "cell_type": "markdown",
   "id": "0fdbc97c-8494-4286-93cc-b468ba4ea2a2",
   "metadata": {},
   "source": [
    "## 고급 복합 타입"
   ]
  },
  {
   "cell_type": "code",
   "execution_count": 3,
   "id": "364b76c8-d03a-48e8-83a7-47421bf385fc",
   "metadata": {},
   "outputs": [
    {
     "name": "stdout",
     "output_type": "stream",
     "text": [
      "(0, [[0., 0., 0.], [0., 0., 0.], [0., 0., 0.]])\n",
      "[[0. 0. 0.]\n",
      " [0. 0. 0.]\n",
      " [0. 0. 0.]]\n"
     ]
    }
   ],
   "source": [
    "# dtype은 C구조체 정의에 직접 매핑 --> 배열 내용 포함하는 버퍼에 직접 접근\n",
    "tp = np.dtype([('id', 'i8'), ('mat', 'f8', (3, 3))])\n",
    "X = np.zeros(1, dtype=tp)\n",
    "print(X[0])\n",
    "print(X['mat'][0])"
   ]
  },
  {
   "cell_type": "markdown",
   "id": "04893008-29e9-43cc-806d-22b9b90c6a60",
   "metadata": {},
   "source": [
    "## 레코드 배열 RecordArrays"
   ]
  },
  {
   "cell_type": "code",
   "execution_count": 4,
   "id": "80c78fb1-e481-4919-bec3-d772db49e6d9",
   "metadata": {},
   "outputs": [
    {
     "name": "stdout",
     "output_type": "stream",
     "text": [
      "[25 45 37 19]\n",
      "[25 45 37 19]\n"
     ]
    }
   ],
   "source": [
    "print(data['age'])\n",
    "\n",
    "# 레코드 배열 --> 필드에 접근 시 동일 구문을 사용해도 오버헤드 발생\n",
    "data_rec = data.view(np.recarray)\n",
    "print(data_rec.age)\n",
    "\n",
    "# 두 방법 중 필요에 따라 선택"
   ]
  },
  {
   "cell_type": "code",
   "execution_count": null,
   "id": "49cbf80a-ab3d-4c99-ac04-387ee1e72d74",
   "metadata": {},
   "outputs": [],
   "source": []
  }
 ],
 "metadata": {
  "kernelspec": {
   "display_name": "Python 3 (ipykernel)",
   "language": "python",
   "name": "python3"
  },
  "language_info": {
   "codemirror_mode": {
    "name": "ipython",
    "version": 3
   },
   "file_extension": ".py",
   "mimetype": "text/x-python",
   "name": "python",
   "nbconvert_exporter": "python",
   "pygments_lexer": "ipython3",
   "version": "3.11.7"
  }
 },
 "nbformat": 4,
 "nbformat_minor": 5
}
