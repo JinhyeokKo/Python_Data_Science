{
 "cells": [
  {
   "cell_type": "markdown",
   "id": "de730672-94a6-42cb-8d05-dbc81ff50933",
   "metadata": {},
   "source": [
    "# Comparisons, Masks, and Boolean Logic"
   ]
  },
  {
   "cell_type": "code",
   "execution_count": 1,
   "id": "de8f2530-6d02-4921-b08d-ae288be7087e",
   "metadata": {},
   "outputs": [
    {
     "name": "stdout",
     "output_type": "stream",
     "text": [
      "inches.shape:  (365,)\n"
     ]
    }
   ],
   "source": [
    "import numpy as np\n",
    "import pandas as pd\n",
    "\n",
    "rainfall = pd.read_csv('./Seattle2014.csv')['PRCP'].values\n",
    "inches = rainfall / 254 # 1/10mm --> inches \n",
    "print(\"inches.shape: \", inches.shape)"
   ]
  },
  {
   "cell_type": "markdown",
   "id": "56ff4521-7aee-4e0f-bb5c-18bb156e1cf6",
   "metadata": {},
   "source": [
    "## Ufunc 비교 연산자"
   ]
  },
  {
   "cell_type": "code",
   "execution_count": 2,
   "id": "2681498d-a386-4043-9119-e007171c84cc",
   "metadata": {},
   "outputs": [
    {
     "name": "stdout",
     "output_type": "stream",
     "text": [
      "x:  [1 2 3 4 5]\n",
      "x < 3:  [ True  True False False False]\n",
      "x > 3:  [False False False  True  True]\n",
      "x <= 3:  [ True  True  True False False]\n",
      "x >= 3:  [False False  True  True  True]\n",
      "x != 3:  [ True  True False  True  True]\n",
      "\n",
      "(2 * x) == (x ** 2):  [False  True False False False]\n",
      "\n",
      "x: \n",
      " [[5 0 3 3]\n",
      " [7 9 3 5]\n",
      " [2 4 7 6]]\n",
      "\n",
      "x < 6: \n",
      " [[ True  True  True  True]\n",
      " [False False  True  True]\n",
      " [ True  True False False]]\n"
     ]
    }
   ],
   "source": [
    "x = np.array([1, 2, 3, 4, 5])\n",
    "print(\"x: \", x)\n",
    "print(\"x < 3: \", x < 3)\n",
    "print(\"x > 3: \", x > 3)\n",
    "print(\"x <= 3: \", x <= 3)\n",
    "print(\"x >= 3: \", x >= 3)\n",
    "print(\"x != 3: \", x != 3)\n",
    "\n",
    "# 복합 표현식 --> 두 배열 항목별 비교\n",
    "print(\"\\n(2 * x) == (x ** 2): \", (2 * x) == (x ** 2))\n",
    "\n",
    "# 2차원\n",
    "rng = np.random.RandomState(0)\n",
    "x = rng.randint(10, size = (3, 4))\n",
    "print(\"\\nx: \\n\", x)\n",
    "print(\"\\nx < 6: \\n\", x < 6)"
   ]
  },
  {
   "cell_type": "markdown",
   "id": "535c243b-229e-4129-878b-52ceb937b77f",
   "metadata": {},
   "source": [
    "| Operator    | Equivalent ufunc  | Operator   | Equivalent ufunc |\n",
    "|-------------|-------------------|------------|------------------|\n",
    "|`==`         |`np.equal`         |`!=`        |`np.not_equal`    |\n",
    "|`<`          |`np.less`          |`<=`        |`np.less_equal`   |\n",
    "|`>`          |`np.greater`       |`>=`        |`np.greater_equal`|"
   ]
  },
  {
   "cell_type": "markdown",
   "id": "3edf4526-042b-4da5-8bbd-ef980e927a12",
   "metadata": {},
   "source": [
    "## 부울 배열로 작업"
   ]
  },
  {
   "cell_type": "markdown",
   "id": "051c87e9-b066-46a2-96f6-dd567799fa64",
   "metadata": {},
   "source": [
    "### 요소 개수 세기"
   ]
  },
  {
   "cell_type": "code",
   "execution_count": 3,
   "id": "f701e887-fb5d-4124-b3c9-8e064763b35f",
   "metadata": {},
   "outputs": [
    {
     "name": "stdout",
     "output_type": "stream",
     "text": [
      "x: \n",
      " [[5 0 3 3]\n",
      " [7 9 3 5]\n",
      " [2 4 7 6]]\n",
      "\n",
      "np.count_nonzero(x < 6):  8\n",
      "\n",
      "np.sum(x < 6):  8\n",
      "np.sum(x < 6, axis=1):  [4 2 2]\n",
      "\n",
      "np.any(x > 8):  True\n",
      "np.all(x < 10):  True\n",
      "\n",
      "np.any(x > 8, axis=1):  [False  True False]\n",
      "np.all(x < 8, axis=0):  [ True False  True  True]\n"
     ]
    }
   ],
   "source": [
    "# 요소 개수 세기\n",
    "print(\"x: \\n\", x)\n",
    "# True인 요소의 개수\n",
    "print(\"\\nnp.count_nonzero(x < 6): \", np.count_nonzero(x < 6))\n",
    "#False는 0으로, True는 1로 해석\n",
    "print(\"\\nnp.sum(x < 6): \", np.sum(x < 6))\n",
    "# 집계함수와 같이 행이나 열에 따른 계산 가능\n",
    "print(\"np.sum(x < 6, axis=1): \",np.sum(x < 6, axis=1))\n",
    "# 값 중 참이 있는지 확인\n",
    "print(\"\\nnp.any(x > 8): \", np.any(x > 8)) # 하나의 값 기준\n",
    "print(\"np.all(x < 10): \",np.all(x < 10)) # 모든 값 기준\n",
    "print(\"\\nnp.any(x > 8, axis=1): \", np.any(x > 8, axis=1))\n",
    "print(\"np.all(x < 8, axis=0): \",np.all(x < 8, axis=0))"
   ]
  },
  {
   "cell_type": "markdown",
   "id": "b0f4b8ae-5c21-4aed-9893-f2957a4db8c0",
   "metadata": {},
   "source": [
    "### 부울 연산자"
   ]
  },
  {
   "cell_type": "markdown",
   "id": "cd635b42-0b7a-4cf8-af41-e176b5ae4e35",
   "metadata": {},
   "source": [
    "| Operator    | Equivalent ufunc  | Operator    | Equivalent ufunc  |\n",
    "|-------------|-------------------|-------------|-------------------|\n",
    "|`&`          |`np.bitwise_and`   |&#124;       |`np.bitwise_or`    |\n",
    "|`^`          |`np.bitwise_xor`   |`~`          |`np.bitwise_not`   |"
   ]
  },
  {
   "cell_type": "code",
   "execution_count": 4,
   "id": "334da2a8-ef45-4b38-9599-98d113f06207",
   "metadata": {},
   "outputs": [
    {
     "name": "stdout",
     "output_type": "stream",
     "text": [
      "np.sum((inches > 0.5) & (inches < 1)):  29\n",
      "np.sum(~((inches <= 0.5) | (inches >= 1))):  29\n"
     ]
    }
   ],
   "source": [
    "print(\"np.sum((inches > 0.5) & (inches < 1)): \", np.sum((inches > 0.5) & (inches < 1)))\n",
    "print(\"np.sum(~((inches <= 0.5) | (inches >= 1))): \", np.sum(~((inches <= 0.5) | (inches >= 1))))"
   ]
  },
  {
   "cell_type": "markdown",
   "id": "3f9052fc-6bad-4472-8123-a28adb3fe843",
   "metadata": {},
   "source": [
    "### 마스크로서의 부울 배열"
   ]
  },
  {
   "cell_type": "code",
   "execution_count": 5,
   "id": "43e9e70a-becd-423c-a588-01e430098c95",
   "metadata": {},
   "outputs": [
    {
     "name": "stdout",
     "output_type": "stream",
     "text": [
      "x: \n",
      " [[5 0 3 3]\n",
      " [7 9 3 5]\n",
      " [2 4 7 6]]\n",
      "\n",
      "x[x < 5]:  [0 3 3 3 2 4]\n",
      "\n",
      "np.median(inches[rainy]):  0.19488188976377951\n",
      "np.median(inches[summer]):  0.0\n",
      "np.max(inches[summer]):  1.8385826771653544\n",
      "np.median(inches[rainy & ~summer]):  0.20866141732283464\n"
     ]
    }
   ],
   "source": [
    "print(\"x: \\n\", x)\n",
    "print(\"\\nx[x < 5]: \", x[x < 5]) # 마스킹 연산 --> 부울(마스크) 배열에서 True값 반환\n",
    "\n",
    "# Example\n",
    "rainy = (inches > 0)\n",
    "summer = (np.arange(365) - 172 < 90) & (np.arange(365) -17 > 0)\n",
    "print(\"\\nnp.median(inches[rainy]): \", np.median(inches[rainy]))\n",
    "print(\"np.median(inches[summer]): \", np.median(inches[summer]))\n",
    "print(\"np.max(inches[summer]): \", np.max(inches[summer]))\n",
    "print(\"np.median(inches[rainy & ~summer]): \", np.median(inches[rainy & ~summer]))"
   ]
  },
  {
   "cell_type": "markdown",
   "id": "39623e46-0c00-4807-933b-30b8f647ef76",
   "metadata": {},
   "source": [
    "### 키워드 사용"
   ]
  },
  {
   "cell_type": "code",
   "execution_count": 6,
   "id": "0e974392-6203-4903-917f-d1215dd916b6",
   "metadata": {},
   "outputs": [
    {
     "name": "stdout",
     "output_type": "stream",
     "text": [
      "x: True \n",
      "y: False\n",
      "x and y: False \n",
      "x or y: True\n",
      "\n",
      "bin(33): 0b100001 \n",
      "bin(55): 0b110111\n",
      "bin(33 & 55): 0b100001\n",
      "bin(33 | 55): 0b110111\n"
     ]
    }
   ],
   "source": [
    "# and / or --> 객체를 부울 요소로 취급\n",
    "x = bool(33)\n",
    "y = bool(0)\n",
    "print(\"x:\", x, \"\\ny:\", y)\n",
    "print(\"x and y:\", x and y, \"\\nx or y:\", x or y)\n",
    "\n",
    "# & / | --> 비트를 비교(배열에 사용)\n",
    "print(\"\\nbin(33):\", bin(33), \"\\nbin(55):\", bin(55))\n",
    "print(\"bin(33 & 55):\", bin(33 & 55))\n",
    "print(\"bin(33 | 55):\", bin(33 | 55))"
   ]
  }
 ],
 "metadata": {
  "kernelspec": {
   "display_name": "Python 3 (ipykernel)",
   "language": "python",
   "name": "python3"
  },
  "language_info": {
   "codemirror_mode": {
    "name": "ipython",
    "version": 3
   },
   "file_extension": ".py",
   "mimetype": "text/x-python",
   "name": "python",
   "nbconvert_exporter": "python",
   "pygments_lexer": "ipython3",
   "version": "3.11.7"
  }
 },
 "nbformat": 4,
 "nbformat_minor": 5
}
