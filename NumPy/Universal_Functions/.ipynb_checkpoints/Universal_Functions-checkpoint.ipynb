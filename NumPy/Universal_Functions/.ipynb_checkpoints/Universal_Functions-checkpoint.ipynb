{
 "cells": [
  {
   "cell_type": "markdown",
   "id": "bfc6617a-484e-4411-80a2-09d4bbac653f",
   "metadata": {},
   "source": [
    "# Universal_Functions"
   ]
  },
  {
   "cell_type": "markdown",
   "id": "c0753141-b3b2-4dab-a31a-09e6d3e9feae",
   "metadata": {},
   "source": [
    "## NumPy 배열 연산: Ufuncs"
   ]
  },
  {
   "cell_type": "code",
   "execution_count": 1,
   "id": "b89ef443-6fb4-4777-a5e0-3468773545d3",
   "metadata": {},
   "outputs": [
    {
     "name": "stdout",
     "output_type": "stream",
     "text": [
      "파이썬 루프: \n",
      "967 ms ± 4.74 ms per loop (mean ± std. dev. of 7 runs, 1 loop each)\n",
      "벡터화: \n",
      "1.7 ms ± 41.7 µs per loop (mean ± std. dev. of 7 runs, 1,000 loops each)\n",
      "\n",
      "1차원 배열 : \n",
      " [0.         0.5        0.66666667 0.75       0.8       ]\n",
      "\n",
      "3차원 배열 : \n",
      " [[  1   2   4]\n",
      " [  8  16  32]\n",
      " [ 64 128 256]]\n"
     ]
    }
   ],
   "source": [
    "import numpy as np\n",
    "np.random.seed(0)\n",
    "\n",
    "def compute_reciprocals(values):\n",
    "    output = np.empty(len(values))\n",
    "    for i in range(len(values)):\n",
    "        output[i] = 1.0 / values[i]\n",
    "    return output\n",
    "\n",
    "big_array = np.random.randint(1, 100, size = 1000000)\n",
    "\n",
    "# 벡터화 연산은 Numpy 배열의 값에 반복된 연산을 빠르게 수행하는 것을 주목적으로 하는 Ufuncs를 통해 구현\n",
    "print(\"파이썬 루프: \")\n",
    "%timeit compute_reciprocals(big_array)\n",
    "print(\"벡터화: \")\n",
    "%timeit (1.0 / big_array)\n",
    "\n",
    "# Ufunc 연산은 여러 차원 배열에서 동작\n",
    "print(\"\\n1차원 배열 : \\n\", np.arange(5) / np.arange(1, 6))\n",
    "print(\"\\n3차원 배열 : \\n\", 2 ** (np.arange(9).reshape((3, 3))))"
   ]
  },
  {
   "cell_type": "markdown",
   "id": "f1f465f1-e6de-4fca-b6de-d22c65917311",
   "metadata": {},
   "source": [
    "Ufuncs는 기본 산술 연산자를 사용하며 표준 연산 순서를 따름\n",
    "\n",
    "| 연산자 | 대응 Ufuncs | 설명  |\r\n",
    "| --- | --- | --- |\r\n",
    "| +   | np.add | 덧셈(예: 1 + 1 = 2) |\r\n",
    "| -   | np.subtract | 뺄셈(예: 3 - 2 = 1) |\r\n",
    "| -   | np.negative | 단항 음수(예: -2) |\r\n",
    "| *   | np.multiply | 곱셈(예: 2 * 3 = 6) |\r\n",
    "| /   | np.divide | 나눗셈(예: 3 / 2 = 1.5) |\r\n",
    "| //  | np.floor_divide | 나눗셈의 몫(예: 3 // 2 = 1) |\r\n",
    "| **  | np.power | 지수(예: 2 ** 3 = 8) |\r\n",
    "| %   | np.mod | 나눗셈의 나머지(예: 9 % 4 = 1) |"
   ]
  },
  {
   "cell_type": "markdown",
   "id": "e1331870-ee9e-4b50-85be-60385b9c6dd1",
   "metadata": {},
   "source": [
    "### 절댓값 함수"
   ]
  },
  {
   "cell_type": "code",
   "execution_count": 3,
   "id": "1e7a0ead-622a-4103-8f00-3c6e42a6a428",
   "metadata": {},
   "outputs": [
    {
     "name": "stdout",
     "output_type": "stream",
     "text": [
      "x:  [-2 -1  0  1  2]\n",
      "np.absolute(x):  [2 1 0 1 2]\n",
      "np.abs(x):  [2 1 0 1 2]\n",
      "복수 데이터 np.abs(x): [5. 5. 2. 1.]\n"
     ]
    }
   ],
   "source": [
    "# 절댓값 함수 ufunc : np.absolute --> np.abs\n",
    "x = np.array([-2, -1, 0, 1, 2])\n",
    "print(\"x: \", x)\n",
    "print(\"np.absolute(x): \", np.absolute(x))\n",
    "print(\"np.abs(x): \", np.abs(x))\n",
    "\n",
    "# 복수 데이터도 처리 가능하며, 이 경우 절댓값은 크기를 반환\n",
    "x = np.array([3 - 4j, 4 - 3j, 2 + 0j, 0 + 1j])\n",
    "print(\"복수 데이터 np.abs(x):\", np.abs(x))"
   ]
  },
  {
   "cell_type": "markdown",
   "id": "1dc0f238-dddc-4b11-8a80-7115e14cf0ab",
   "metadata": {},
   "source": [
    "### 삼각 함수"
   ]
  },
  {
   "cell_type": "code",
   "execution_count": 4,
   "id": "021ef08f-5c41-42e5-94d2-58f11250ca45",
   "metadata": {},
   "outputs": [
    {
     "name": "stdout",
     "output_type": "stream",
     "text": [
      "theta      =  [0.         1.57079633 3.14159265]\n",
      "sin(theta) =  [0.0000000e+00 1.0000000e+00 1.2246468e-16]\n",
      "cos(theta) =  [ 1.000000e+00  6.123234e-17 -1.000000e+00]\n",
      "tan(theta) =  [ 0.00000000e+00  1.63312394e+16 -1.22464680e-16]\n",
      "\n",
      "x         =  [-1, 0, 1]\n",
      "arcsin(x) =  [-1.57079633  0.          1.57079633]\n",
      "arccos(x) =  [3.14159265 1.57079633 0.        ]\n",
      "arctan(x) =  [-0.78539816  0.          0.78539816]\n"
     ]
    }
   ],
   "source": [
    "# 삼각함수\n",
    "theta = np.linspace(0, np.pi, 3) # np.pi --> 파이값\n",
    "print(\"theta      = \", theta)\n",
    "print(\"sin(theta) = \", np.sin(theta))\n",
    "print(\"cos(theta) = \", np.cos(theta))\n",
    "print(\"tan(theta) = \", np.tan(theta))\n",
    "\n",
    "#역삼각함수\n",
    "x = [-1, 0, 1]\n",
    "print(\"\\nx         = \", x)\n",
    "print(\"arcsin(x) = \", np.arcsin(x))\n",
    "print(\"arccos(x) = \", np.arccos(x))\n",
    "print(\"arctan(x) = \", np.arctan(x))"
   ]
  },
  {
   "cell_type": "markdown",
   "id": "e40089ea-33f6-44cf-8a90-135acf8ff721",
   "metadata": {},
   "source": [
    "### 지수와 로그"
   ]
  },
  {
   "cell_type": "code",
   "execution_count": 5,
   "id": "de26fcbe-825b-4d58-925f-15829c62dd74",
   "metadata": {},
   "outputs": [
    {
     "name": "stdout",
     "output_type": "stream",
     "text": [
      "x   =  [1, 2, 3]\n",
      "e^x =  [ 2.71828183  7.3890561  20.08553692]\n",
      "2^x =  [2. 4. 8.]\n",
      "3^x =  [ 3  9 27]\n",
      "\n",
      "x        =  [1, 2, 4, 10]\n",
      "ln(x)    =  [0.         0.69314718 1.38629436 2.30258509]\n",
      "log2(x)  =  [0.         1.         2.         3.32192809]\n",
      "log10(x) =  [0.         0.30103    0.60205999 1.        ]\n",
      "\n",
      "x          =  [0, 0.001, 0.01, 0.1]\n",
      "exp(x) - 1 =  [0.         0.0010005  0.01005017 0.10517092]\n",
      "log(1 + x) =  [0.         0.0009995  0.00995033 0.09531018]\n"
     ]
    }
   ],
   "source": [
    "#지수 연산\n",
    "x = [1, 2, 3]\n",
    "print(\"x   = \", x)\n",
    "print(\"e^x = \", np.exp(x))\n",
    "print(\"2^x = \", np.exp2(x))\n",
    "print(\"3^x = \", np.power(3, x))\n",
    "\n",
    "#로그 연산\n",
    "x = [1, 2, 4, 10]\n",
    "print(\"\\nx        = \", x)\n",
    "print(\"ln(x)    = \", np.log(x))\n",
    "print(\"log2(x)  = \", np.log2(x))\n",
    "print(\"log10(x) = \", np.log10(x))\n",
    "\n",
    "#매우 작은 입력값의 정확도를 유지할 때\n",
    "x = [0, 0.001, 0.01, 0.1]\n",
    "print(\"\\nx          = \", x)\n",
    "print(\"exp(x) - 1 = \", np.expm1(x))\n",
    "print(\"log(1 + x) = \", np.log1p(x))"
   ]
  },
  {
   "cell_type": "code",
   "execution_count": 6,
   "id": "6e33a600-40d2-46f6-adc9-e22c23080ebc",
   "metadata": {},
   "outputs": [
    {
     "name": "stdout",
     "output_type": "stream",
     "text": [
      "gamma(x)     =  [1.0000e+00 2.4000e+01 3.6288e+05]\n",
      "ln|gamma(x)| =  [ 0.          3.17805383 12.80182748]\n",
      "beta(x, 2)   =  [0.5        0.03333333 0.00909091]\n",
      "\n",
      "erf(x)    =  [0.         0.32862676 0.67780119 0.84270079]\n",
      "erfc(x)   =  [1.         0.67137324 0.32219881 0.15729921]\n",
      "erfinv(x) =  [0.         0.27246271 0.73286908        inf]\n"
     ]
    }
   ],
   "source": [
    "# 잘 알려지지 안은 수학적 함수를 사용할 때 --> 대부분 scipy.special\n",
    "from scipy import special\n",
    "\n",
    "#감마 함수(일반화된 계승)와 관련 함수\n",
    "x = [1, 5, 10]\n",
    "print(\"gamma(x)     = \", special.gamma(x))\n",
    "print(\"ln|gamma(x)| = \", special.gammaln(x))\n",
    "print(\"beta(x, 2)   = \", special.beta(x, 2))\n",
    "\n",
    "# 오차 함수(가우스 적분), 그 보수(complement)와 역수(inverse)\n",
    "x = np.array([0, 0.3, 0.7, 1.0])\n",
    "print(\"\\nerf(x)    = \", special.erf(x))\n",
    "print(\"erfc(x)   = \", special.erfc(x))\n",
    "print(\"erfinv(x) = \", special.erfinv(x))\n",
    "\n",
    "# 이 외 gamma function python 참조"
   ]
  },
  {
   "cell_type": "markdown",
   "id": "a55d66ac-a7fc-47ef-ae4a-66a1d2f43a4b",
   "metadata": {},
   "source": [
    "## 고급 Ufunc 기능"
   ]
  },
  {
   "cell_type": "code",
   "execution_count": 7,
   "id": "3afe2ad7-b629-4828-b065-8781c6994954",
   "metadata": {},
   "outputs": [
    {
     "name": "stdout",
     "output_type": "stream",
     "text": [
      "[ 0. 10. 20. 30. 40.]\n",
      "[ 1.  0.  2.  0.  4.  0.  8.  0. 16.  0.]\n"
     ]
    }
   ],
   "source": [
    "# 출력 지정 --> out\n",
    "x = np.arange(5)\n",
    "y = np.empty(5)\n",
    "np.multiply(x, 10, out = y)\n",
    "print(y)\n",
    "\n",
    "#배열 뷰와 함께 사용\n",
    "y = np.zeros(10)\n",
    "# y[::2] = 2 ** x --> 2 ** x 결과를 임시 배열을 생성 후 y 배열에 복사\n",
    "np.power(2, x, out = y[::2]) # 2 ** x 결과를 바로 y 배열에 기록 -> 메모리 효율적\n",
    "print(y)"
   ]
  },
  {
   "cell_type": "code",
   "execution_count": 8,
   "id": "9f4ccc85-40bc-4e32-bcdb-62f18a48d53f",
   "metadata": {},
   "outputs": [
    {
     "data": {
      "text/plain": [
       "array([[ 1,  2,  3,  4,  5],\n",
       "       [ 2,  4,  6,  8, 10],\n",
       "       [ 3,  6,  9, 12, 15],\n",
       "       [ 4,  8, 12, 16, 20],\n",
       "       [ 5, 10, 15, 20, 25]])"
      ]
     },
     "execution_count": 8,
     "metadata": {},
     "output_type": "execute_result"
    }
   ],
   "source": [
    "# 외적(Outer products) --> outer\n",
    "#서로 다른 두 입력값의 모든 쌍에 대한 출력값 계산\n",
    "x = np.arange(1, 6)\n",
    "np.multiply.outer(x, x)"
   ]
  }
 ],
 "metadata": {
  "kernelspec": {
   "display_name": "Python 3 (ipykernel)",
   "language": "python",
   "name": "python3"
  },
  "language_info": {
   "codemirror_mode": {
    "name": "ipython",
    "version": 3
   },
   "file_extension": ".py",
   "mimetype": "text/x-python",
   "name": "python",
   "nbconvert_exporter": "python",
   "pygments_lexer": "ipython3",
   "version": "3.12.1"
  }
 },
 "nbformat": 4,
 "nbformat_minor": 5
}
