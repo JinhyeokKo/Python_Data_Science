{
 "cells": [
  {
   "cell_type": "markdown",
   "id": "7a76edff-641c-4065-8640-2144197a62d3",
   "metadata": {},
   "source": [
    "# Pandas_Objects"
   ]
  },
  {
   "cell_type": "code",
   "execution_count": 1,
   "id": "5fc4cf72-03da-4f71-8743-d782e7ed2e40",
   "metadata": {},
   "outputs": [],
   "source": [
    "import numpy as np\n",
    "import pandas as pd"
   ]
  },
  {
   "cell_type": "markdown",
   "id": "15151ff6-1416-4ea4-93a4-074d1bc3cb16",
   "metadata": {},
   "source": [
    "## The Pandas Series Object"
   ]
  },
  {
   "cell_type": "code",
   "execution_count": 2,
   "id": "83eec182-02eb-4a87-9ffa-b2eb2a31be2d",
   "metadata": {},
   "outputs": [
    {
     "name": "stdout",
     "output_type": "stream",
     "text": [
      "data:\n",
      " 0    0.25\n",
      "1    0.50\n",
      "2    0.75\n",
      "3    1.00\n",
      "dtype: float64\n",
      "\n",
      "data.values: [0.25 0.5  0.75 1.  ]\n",
      "\n",
      "data.index: RangeIndex(start=0, stop=4, step=1)\n",
      "\n",
      "data[1:3]:\n",
      " 1    0.50\n",
      "2    0.75\n",
      "dtype: float64\n"
     ]
    }
   ],
   "source": [
    "# Pandas Series는 인덱싱된 데이터의 1차원 배열\n",
    "data = pd.Series([0.25, 0.5, 0.75, 1.0])\n",
    "print(\"data:\\n\", data)\n",
    "# Series는 values와 index 속성으로 접근 가능\n",
    "# values는 Numpy 배열\n",
    "print(\"\\ndata.values:\", data.values)\n",
    "# index는 pd.Index 타입의 배열과 비슷한 객체\n",
    "print(\"\\ndata.index:\", data.index)\n",
    "print(\"\\ndata[1:3]:\\n\", data[1:3])"
   ]
  },
  {
   "cell_type": "markdown",
   "id": "4137ef0a-0b75-4e7c-990a-b3799ab9555a",
   "metadata": {},
   "source": [
    "### 일반화된 NumPy 배열 generalized NumPy array"
   ]
  },
  {
   "cell_type": "markdown",
   "id": "138045cf-c903-4d3d-adf1-84c8639038f4",
   "metadata": {},
   "source": [
    "NumPy 배열에는 값에 접근하는 데 사용되는 암묵적으로 정의된 정수형 인덱스 존재  \n",
    "Series에는 값에 연결된 명시적으로 정의되 인덱스 존재"
   ]
  },
  {
   "cell_type": "code",
   "execution_count": 3,
   "id": "263c1349-ca2f-4cf8-8cc1-321a8518133c",
   "metadata": {},
   "outputs": [
    {
     "name": "stdout",
     "output_type": "stream",
     "text": [
      "data:\n",
      " a    0.25\n",
      "b    0.50\n",
      "c    0.75\n",
      "d    1.00\n",
      "dtype: float64\n",
      "\n",
      "data['b']: 0.5\n"
     ]
    }
   ],
   "source": [
    "# index를 문자열로 사용\n",
    "data = pd.Series([0.25, 0.5, 0.75, 1.0], index=['a', 'b', 'c', 'd'])\n",
    "print(\"data:\\n\", data)\n",
    "print(\"\\ndata['b']:\", data['b'])"
   ]
  },
  {
   "cell_type": "code",
   "execution_count": 4,
   "id": "95935ce2-ebac-4402-baf0-245dd05a000a",
   "metadata": {},
   "outputs": [
    {
     "name": "stdout",
     "output_type": "stream",
     "text": [
      "\n",
      "data:\n",
      " 2    0.25\n",
      "5    0.50\n",
      "3    0.75\n",
      "7    1.00\n",
      "dtype: float64\n",
      "\n",
      "data[3]: 0.75\n"
     ]
    }
   ],
   "source": [
    "# index를 불연속적으로 사용\n",
    "data = pd.Series([0.25, 0.5, 0.75, 1.0], index=[2, 5, 3, 7])\n",
    "print(\"\\ndata:\\n\", data)\n",
    "print(\"\\ndata[3]:\", data[3])"
   ]
  },
  {
   "cell_type": "markdown",
   "id": "483259f9-ad5e-4c2c-8d1e-10f79d866852",
   "metadata": {},
   "source": [
    "### 특수한 딕셔너리 specialized dictionary"
   ]
  },
  {
   "cell_type": "code",
   "execution_count": 5,
   "id": "6fd578f6-3758-4ae4-b0c4-e6e6329c1cbd",
   "metadata": {},
   "outputs": [
    {
     "data": {
      "text/plain": [
       "California    38332521\n",
       "Texas         26448193\n",
       "New York      19651127\n",
       "Florida       19552860\n",
       "Illinois      12882135\n",
       "dtype: int64"
      ]
     },
     "execution_count": 5,
     "metadata": {},
     "output_type": "execute_result"
    }
   ],
   "source": [
    "# 파이썬 딕셔너리에서 직접 Series Objects 구성\n",
    "population_dict = {'California': 38332521,\n",
    "                   'Texas': 26448193,\n",
    "                   'New York': 19651127,\n",
    "                   'Florida': 19552860,\n",
    "                   'Illinois': 12882135}\n",
    "population = pd.Series(population_dict)\n",
    "population"
   ]
  },
  {
   "cell_type": "code",
   "execution_count": 6,
   "id": "fec46fee-82d6-41dd-8f12-f4fc8a53c68f",
   "metadata": {},
   "outputs": [
    {
     "data": {
      "text/plain": [
       "38332521"
      ]
     },
     "execution_count": 6,
     "metadata": {},
     "output_type": "execute_result"
    }
   ],
   "source": [
    "# Series는 인덱스가 정렬된 키에서 추출되는 경우 생성\n",
    "population['California']"
   ]
  },
  {
   "cell_type": "code",
   "execution_count": 7,
   "id": "7bd6ac4c-b0a8-4a86-999e-bbe1d36d543c",
   "metadata": {},
   "outputs": [
    {
     "data": {
      "text/plain": [
       "California    38332521\n",
       "Texas         26448193\n",
       "New York      19651127\n",
       "Florida       19552860\n",
       "Illinois      12882135\n",
       "dtype: int64"
      ]
     },
     "execution_count": 7,
     "metadata": {},
     "output_type": "execute_result"
    }
   ],
   "source": [
    "# Series는 슬라이싱과 같이 배열 스타일의 연산 지원\n",
    "population['California':'Illinois']"
   ]
  },
  {
   "cell_type": "markdown",
   "id": "ad2a7f58-f065-41a7-ad24-144c7debc440",
   "metadata": {},
   "source": [
    "### Series 객체 구성하기 Constructing Series objects"
   ]
  },
  {
   "cell_type": "markdown",
   "id": "dd84ba81-b991-4f61-9e33-518185502505",
   "metadata": {},
   "source": [
    "pd.Series(data, index=index)  \n",
    "index는 선택인수, data는 요소 중 하나"
   ]
  },
  {
   "cell_type": "code",
   "execution_count": 8,
   "id": "39a5312f-3e97-4a90-86f7-13627ec0feb6",
   "metadata": {},
   "outputs": [
    {
     "data": {
      "text/plain": [
       "0    2\n",
       "1    4\n",
       "2    6\n",
       "dtype: int64"
      ]
     },
     "execution_count": 8,
     "metadata": {},
     "output_type": "execute_result"
    }
   ],
   "source": [
    "# data: list 또는 NumPy 배열, index: 정수(기본)\n",
    "pd.Series([2, 4, 6])"
   ]
  },
  {
   "cell_type": "code",
   "execution_count": 9,
   "id": "20f8e639-fc8e-4580-9a31-bd9e1fe4f457",
   "metadata": {},
   "outputs": [
    {
     "data": {
      "text/plain": [
       "100    5\n",
       "200    5\n",
       "300    5\n",
       "dtype: int64"
      ]
     },
     "execution_count": 9,
     "metadata": {},
     "output_type": "execute_result"
    }
   ],
   "source": [
    "# data: 지정된 인덱스를 채우기 위해 반복되는 스칼라값\n",
    "pd.Series(5, index=[100, 200, 300])"
   ]
  },
  {
   "cell_type": "code",
   "execution_count": 10,
   "id": "0944cbb7-efe3-457e-bcc0-7ef9b41b83f4",
   "metadata": {},
   "outputs": [
    {
     "data": {
      "text/plain": [
       "2    a\n",
       "1    b\n",
       "3    c\n",
       "dtype: object"
      ]
     },
     "execution_count": 10,
     "metadata": {},
     "output_type": "execute_result"
    }
   ],
   "source": [
    "# data: 딕셔너리, index: 딕셔너리 키\n",
    "pd.Series({2:'a', 1:'b', 3:'c'})"
   ]
  },
  {
   "cell_type": "code",
   "execution_count": 11,
   "id": "ab775509-0704-4700-8364-af9ebaeee19d",
   "metadata": {},
   "outputs": [
    {
     "data": {
      "text/plain": [
       "3    c\n",
       "2    a\n",
       "dtype: object"
      ]
     },
     "execution_count": 11,
     "metadata": {},
     "output_type": "execute_result"
    }
   ],
   "source": [
    "# index: 명시적으로 설정 --> Series를 명시적으로 정의된 키로만 채울 수 있음\n",
    "pd.Series({2:'a', 1:'b', 3:'c'}, index=[3, 2])"
   ]
  },
  {
   "cell_type": "markdown",
   "id": "e7fe2360-612a-4c57-b0c2-5c045c2a453d",
   "metadata": {},
   "source": [
    "## The Pandas DataFrane Object"
   ]
  },
  {
   "cell_type": "markdown",
   "id": "7e7c7407-a000-47b3-ad9d-97f435f51a95",
   "metadata": {},
   "source": [
    "DataFrame은 정렬된(인덱스를 공유하는) Series 객체의 연속  \n",
    "행과 열 모두 데이터 접근을 위한 일반화된 인덱스를 가지고 있는 2차원 NumPy배열의 일반화된 버전"
   ]
  },
  {
   "cell_type": "markdown",
   "id": "6c6dce51-c8f5-48dd-8647-083ac2b57e08",
   "metadata": {},
   "source": [
    "### 일반화된 NumPy 배열 generalized NumPy array"
   ]
  },
  {
   "cell_type": "code",
   "execution_count": 12,
   "id": "9c93d7c6-cfa4-4bfe-833d-d2140eb53d04",
   "metadata": {},
   "outputs": [
    {
     "data": {
      "text/html": [
       "<div>\n",
       "<style scoped>\n",
       "    .dataframe tbody tr th:only-of-type {\n",
       "        vertical-align: middle;\n",
       "    }\n",
       "\n",
       "    .dataframe tbody tr th {\n",
       "        vertical-align: top;\n",
       "    }\n",
       "\n",
       "    .dataframe thead th {\n",
       "        text-align: right;\n",
       "    }\n",
       "</style>\n",
       "<table border=\"1\" class=\"dataframe\">\n",
       "  <thead>\n",
       "    <tr style=\"text-align: right;\">\n",
       "      <th></th>\n",
       "      <th>population</th>\n",
       "      <th>area</th>\n",
       "    </tr>\n",
       "  </thead>\n",
       "  <tbody>\n",
       "    <tr>\n",
       "      <th>California</th>\n",
       "      <td>38332521</td>\n",
       "      <td>423967</td>\n",
       "    </tr>\n",
       "    <tr>\n",
       "      <th>Texas</th>\n",
       "      <td>26448193</td>\n",
       "      <td>695662</td>\n",
       "    </tr>\n",
       "    <tr>\n",
       "      <th>New York</th>\n",
       "      <td>19651127</td>\n",
       "      <td>141297</td>\n",
       "    </tr>\n",
       "    <tr>\n",
       "      <th>Florida</th>\n",
       "      <td>19552860</td>\n",
       "      <td>170312</td>\n",
       "    </tr>\n",
       "    <tr>\n",
       "      <th>Illinois</th>\n",
       "      <td>12882135</td>\n",
       "      <td>149995</td>\n",
       "    </tr>\n",
       "  </tbody>\n",
       "</table>\n",
       "</div>"
      ],
      "text/plain": [
       "            population    area\n",
       "California    38332521  423967\n",
       "Texas         26448193  695662\n",
       "New York      19651127  141297\n",
       "Florida       19552860  170312\n",
       "Illinois      12882135  149995"
      ]
     },
     "execution_count": 12,
     "metadata": {},
     "output_type": "execute_result"
    }
   ],
   "source": [
    "area_dict = {'California': 423967, 'Texas': 695662, 'New York': 141297,\n",
    "             'Florida': 170312, 'Illinois': 149995}\n",
    "area = pd.Series(area_dict)\n",
    "# 2차원 객체를 구성\n",
    "states = pd.DataFrame({'population': population, 'area': area})\n",
    "states"
   ]
  },
  {
   "cell_type": "code",
   "execution_count": 13,
   "id": "c65eed96-85b9-4b0e-8ea8-c0b234dd6847",
   "metadata": {},
   "outputs": [
    {
     "name": "stdout",
     "output_type": "stream",
     "text": [
      "states.index: Index(['California', 'Texas', 'New York', 'Florida', 'Illinois'], dtype='object')\n",
      "states.columns: Index(['population', 'area'], dtype='object')\n"
     ]
    }
   ],
   "source": [
    "# 인덱스 레이블에 접근할 수 있는 index 속성\n",
    "print(\"states.index:\", states.index)\n",
    "\n",
    "# 열 레이블을 가지고 있는 index 객체인 column 속성\n",
    "print(\"states.columns:\", states.columns)"
   ]
  },
  {
   "cell_type": "markdown",
   "id": "6ecee200-fd42-4682-9a93-77135bd20e2b",
   "metadata": {},
   "source": [
    "### 특수한 딕셔너리 specialized dictionary"
   ]
  },
  {
   "cell_type": "code",
   "execution_count": 14,
   "id": "b48d8444-ec7f-41e8-b52b-f0315c0efe92",
   "metadata": {},
   "outputs": [
    {
     "data": {
      "text/plain": [
       "California    423967\n",
       "Texas         695662\n",
       "New York      141297\n",
       "Florida       170312\n",
       "Illinois      149995\n",
       "Name: area, dtype: int64"
      ]
     },
     "execution_count": 14,
     "metadata": {},
     "output_type": "execute_result"
    }
   ],
   "source": [
    "# DataFrame은 열 이름을 열 데이터로 이루어진 Series에 매핑\n",
    "states['area']"
   ]
  },
  {
   "cell_type": "markdown",
   "id": "6d3f0e26-fc0b-465a-ac2e-9c9bb8c78990",
   "metadata": {},
   "source": [
    "### DataFrame 객체 구성하기 Constructing DataFrame objects"
   ]
  },
  {
   "cell_type": "code",
   "execution_count": 15,
   "id": "a9a54b3a-16a9-4d41-9ed8-4bdf10aa2301",
   "metadata": {},
   "outputs": [
    {
     "data": {
      "text/html": [
       "<div>\n",
       "<style scoped>\n",
       "    .dataframe tbody tr th:only-of-type {\n",
       "        vertical-align: middle;\n",
       "    }\n",
       "\n",
       "    .dataframe tbody tr th {\n",
       "        vertical-align: top;\n",
       "    }\n",
       "\n",
       "    .dataframe thead th {\n",
       "        text-align: right;\n",
       "    }\n",
       "</style>\n",
       "<table border=\"1\" class=\"dataframe\">\n",
       "  <thead>\n",
       "    <tr style=\"text-align: right;\">\n",
       "      <th></th>\n",
       "      <th>population</th>\n",
       "    </tr>\n",
       "  </thead>\n",
       "  <tbody>\n",
       "    <tr>\n",
       "      <th>California</th>\n",
       "      <td>38332521</td>\n",
       "    </tr>\n",
       "    <tr>\n",
       "      <th>Texas</th>\n",
       "      <td>26448193</td>\n",
       "    </tr>\n",
       "    <tr>\n",
       "      <th>New York</th>\n",
       "      <td>19651127</td>\n",
       "    </tr>\n",
       "    <tr>\n",
       "      <th>Florida</th>\n",
       "      <td>19552860</td>\n",
       "    </tr>\n",
       "    <tr>\n",
       "      <th>Illinois</th>\n",
       "      <td>12882135</td>\n",
       "    </tr>\n",
       "  </tbody>\n",
       "</table>\n",
       "</div>"
      ],
      "text/plain": [
       "            population\n",
       "California    38332521\n",
       "Texas         26448193\n",
       "New York      19651127\n",
       "Florida       19552860\n",
       "Illinois      12882135"
      ]
     },
     "execution_count": 15,
     "metadata": {},
     "output_type": "execute_result"
    }
   ],
   "source": [
    "# DataFrame은 Series 객체의 집합체로서 열 하나짜리 DataFrame은 단일 Series로부터 구성\n",
    "pd.DataFrame(population, columns=['population'])"
   ]
  },
  {
   "cell_type": "code",
   "execution_count": 16,
   "id": "63552c53-9a43-4af6-bf32-b76ad1e99127",
   "metadata": {},
   "outputs": [
    {
     "data": {
      "text/html": [
       "<div>\n",
       "<style scoped>\n",
       "    .dataframe tbody tr th:only-of-type {\n",
       "        vertical-align: middle;\n",
       "    }\n",
       "\n",
       "    .dataframe tbody tr th {\n",
       "        vertical-align: top;\n",
       "    }\n",
       "\n",
       "    .dataframe thead th {\n",
       "        text-align: right;\n",
       "    }\n",
       "</style>\n",
       "<table border=\"1\" class=\"dataframe\">\n",
       "  <thead>\n",
       "    <tr style=\"text-align: right;\">\n",
       "      <th></th>\n",
       "      <th>a</th>\n",
       "      <th>b</th>\n",
       "    </tr>\n",
       "  </thead>\n",
       "  <tbody>\n",
       "    <tr>\n",
       "      <th>0</th>\n",
       "      <td>0</td>\n",
       "      <td>0</td>\n",
       "    </tr>\n",
       "    <tr>\n",
       "      <th>1</th>\n",
       "      <td>1</td>\n",
       "      <td>2</td>\n",
       "    </tr>\n",
       "    <tr>\n",
       "      <th>2</th>\n",
       "      <td>2</td>\n",
       "      <td>4</td>\n",
       "    </tr>\n",
       "  </tbody>\n",
       "</table>\n",
       "</div>"
      ],
      "text/plain": [
       "   a  b\n",
       "0  0  0\n",
       "1  1  2\n",
       "2  2  4"
      ]
     },
     "execution_count": 16,
     "metadata": {},
     "output_type": "execute_result"
    }
   ],
   "source": [
    "# 딕셔너리의 리스트는 DataFrame으로 만들 수 있음\n",
    "data = [{'a': i, 'b': 2 * i}\n",
    "        # 간단한 리스트 컴프리핸션을 사용해 데이터 제작\n",
    "        for i in range(3)]\n",
    "pd.DataFrame(data)"
   ]
  },
  {
   "cell_type": "code",
   "execution_count": 17,
   "id": "258fcb6d-56d9-40b5-97ec-6250d584e84a",
   "metadata": {},
   "outputs": [
    {
     "data": {
      "text/html": [
       "<div>\n",
       "<style scoped>\n",
       "    .dataframe tbody tr th:only-of-type {\n",
       "        vertical-align: middle;\n",
       "    }\n",
       "\n",
       "    .dataframe tbody tr th {\n",
       "        vertical-align: top;\n",
       "    }\n",
       "\n",
       "    .dataframe thead th {\n",
       "        text-align: right;\n",
       "    }\n",
       "</style>\n",
       "<table border=\"1\" class=\"dataframe\">\n",
       "  <thead>\n",
       "    <tr style=\"text-align: right;\">\n",
       "      <th></th>\n",
       "      <th>a</th>\n",
       "      <th>b</th>\n",
       "      <th>c</th>\n",
       "    </tr>\n",
       "  </thead>\n",
       "  <tbody>\n",
       "    <tr>\n",
       "      <th>0</th>\n",
       "      <td>1.0</td>\n",
       "      <td>2</td>\n",
       "      <td>NaN</td>\n",
       "    </tr>\n",
       "    <tr>\n",
       "      <th>1</th>\n",
       "      <td>NaN</td>\n",
       "      <td>3</td>\n",
       "      <td>4.0</td>\n",
       "    </tr>\n",
       "  </tbody>\n",
       "</table>\n",
       "</div>"
      ],
      "text/plain": [
       "     a  b    c\n",
       "0  1.0  2  NaN\n",
       "1  NaN  3  4.0"
      ]
     },
     "execution_count": 17,
     "metadata": {},
     "output_type": "execute_result"
    }
   ],
   "source": [
    "# Pandas는 누락된 자리를 NaN값으로 채움\n",
    "pd.DataFrame([{'a': 1, 'b': 2}, {'b': 3, 'c': 4}])"
   ]
  },
  {
   "cell_type": "code",
   "execution_count": 18,
   "id": "5c6e5d42-0e58-4148-adcf-8309989aad6f",
   "metadata": {},
   "outputs": [
    {
     "data": {
      "text/html": [
       "<div>\n",
       "<style scoped>\n",
       "    .dataframe tbody tr th:only-of-type {\n",
       "        vertical-align: middle;\n",
       "    }\n",
       "\n",
       "    .dataframe tbody tr th {\n",
       "        vertical-align: top;\n",
       "    }\n",
       "\n",
       "    .dataframe thead th {\n",
       "        text-align: right;\n",
       "    }\n",
       "</style>\n",
       "<table border=\"1\" class=\"dataframe\">\n",
       "  <thead>\n",
       "    <tr style=\"text-align: right;\">\n",
       "      <th></th>\n",
       "      <th>population</th>\n",
       "      <th>area</th>\n",
       "    </tr>\n",
       "  </thead>\n",
       "  <tbody>\n",
       "    <tr>\n",
       "      <th>California</th>\n",
       "      <td>38332521</td>\n",
       "      <td>423967</td>\n",
       "    </tr>\n",
       "    <tr>\n",
       "      <th>Texas</th>\n",
       "      <td>26448193</td>\n",
       "      <td>695662</td>\n",
       "    </tr>\n",
       "    <tr>\n",
       "      <th>New York</th>\n",
       "      <td>19651127</td>\n",
       "      <td>141297</td>\n",
       "    </tr>\n",
       "    <tr>\n",
       "      <th>Florida</th>\n",
       "      <td>19552860</td>\n",
       "      <td>170312</td>\n",
       "    </tr>\n",
       "    <tr>\n",
       "      <th>Illinois</th>\n",
       "      <td>12882135</td>\n",
       "      <td>149995</td>\n",
       "    </tr>\n",
       "  </tbody>\n",
       "</table>\n",
       "</div>"
      ],
      "text/plain": [
       "            population    area\n",
       "California    38332521  423967\n",
       "Texas         26448193  695662\n",
       "New York      19651127  141297\n",
       "Florida       19552860  170312\n",
       "Illinois      12882135  149995"
      ]
     },
     "execution_count": 18,
     "metadata": {},
     "output_type": "execute_result"
    }
   ],
   "source": [
    "# DataFrame을 Series 객체의 딕셔너리로 구성\n",
    "pd.DataFrame({'population': population, 'area': area})"
   ]
  },
  {
   "cell_type": "code",
   "execution_count": 19,
   "id": "3abb207e-c74c-4e8b-89d0-6bf85b01ac86",
   "metadata": {},
   "outputs": [
    {
     "data": {
      "text/html": [
       "<div>\n",
       "<style scoped>\n",
       "    .dataframe tbody tr th:only-of-type {\n",
       "        vertical-align: middle;\n",
       "    }\n",
       "\n",
       "    .dataframe tbody tr th {\n",
       "        vertical-align: top;\n",
       "    }\n",
       "\n",
       "    .dataframe thead th {\n",
       "        text-align: right;\n",
       "    }\n",
       "</style>\n",
       "<table border=\"1\" class=\"dataframe\">\n",
       "  <thead>\n",
       "    <tr style=\"text-align: right;\">\n",
       "      <th></th>\n",
       "      <th>foo</th>\n",
       "      <th>bar</th>\n",
       "    </tr>\n",
       "  </thead>\n",
       "  <tbody>\n",
       "    <tr>\n",
       "      <th>a</th>\n",
       "      <td>0.683869</td>\n",
       "      <td>0.876236</td>\n",
       "    </tr>\n",
       "    <tr>\n",
       "      <th>b</th>\n",
       "      <td>0.393982</td>\n",
       "      <td>0.461714</td>\n",
       "    </tr>\n",
       "    <tr>\n",
       "      <th>c</th>\n",
       "      <td>0.079062</td>\n",
       "      <td>0.769231</td>\n",
       "    </tr>\n",
       "  </tbody>\n",
       "</table>\n",
       "</div>"
      ],
      "text/plain": [
       "        foo       bar\n",
       "a  0.683869  0.876236\n",
       "b  0.393982  0.461714\n",
       "c  0.079062  0.769231"
      ]
     },
     "execution_count": 19,
     "metadata": {},
     "output_type": "execute_result"
    }
   ],
   "source": [
    "# 2차원 배열로 지정된 열과 인덱스 이름을 가진 DataFrame 생성\n",
    "pd.DataFrame(np.random.rand(3, 2), columns=['foo', 'bar'], index=['a', 'b', 'c'])"
   ]
  },
  {
   "cell_type": "code",
   "execution_count": 20,
   "id": "f1149d2f-27cb-4dc2-98cb-8c85ec829192",
   "metadata": {},
   "outputs": [
    {
     "data": {
      "text/html": [
       "<div>\n",
       "<style scoped>\n",
       "    .dataframe tbody tr th:only-of-type {\n",
       "        vertical-align: middle;\n",
       "    }\n",
       "\n",
       "    .dataframe tbody tr th {\n",
       "        vertical-align: top;\n",
       "    }\n",
       "\n",
       "    .dataframe thead th {\n",
       "        text-align: right;\n",
       "    }\n",
       "</style>\n",
       "<table border=\"1\" class=\"dataframe\">\n",
       "  <thead>\n",
       "    <tr style=\"text-align: right;\">\n",
       "      <th></th>\n",
       "      <th>foo</th>\n",
       "      <th>bar</th>\n",
       "    </tr>\n",
       "  </thead>\n",
       "  <tbody>\n",
       "    <tr>\n",
       "      <th>0</th>\n",
       "      <td>0.150569</td>\n",
       "      <td>0.339610</td>\n",
       "    </tr>\n",
       "    <tr>\n",
       "      <th>1</th>\n",
       "      <td>0.495684</td>\n",
       "      <td>0.406123</td>\n",
       "    </tr>\n",
       "    <tr>\n",
       "      <th>2</th>\n",
       "      <td>0.617366</td>\n",
       "      <td>0.497586</td>\n",
       "    </tr>\n",
       "  </tbody>\n",
       "</table>\n",
       "</div>"
      ],
      "text/plain": [
       "        foo       bar\n",
       "0  0.150569  0.339610\n",
       "1  0.495684  0.406123\n",
       "2  0.617366  0.497586"
      ]
     },
     "execution_count": 20,
     "metadata": {},
     "output_type": "execute_result"
    }
   ],
   "source": [
    "# 생략 시 각각에 대해 정수 인덱스 사용\n",
    "pd.DataFrame(np.random.rand(3, 2), columns=['foo', 'bar'])"
   ]
  },
  {
   "cell_type": "code",
   "execution_count": 21,
   "id": "4060a539-5ef2-4bca-8b96-84adbc676dca",
   "metadata": {},
   "outputs": [
    {
     "data": {
      "text/plain": [
       "array([(0, 0.), (0, 0.), (0, 0.)], dtype=[('A', '<i8'), ('B', '<f8')])"
      ]
     },
     "execution_count": 21,
     "metadata": {},
     "output_type": "execute_result"
    }
   ],
   "source": [
    "# NumPy의 구조화된 배열에서 구성\n",
    "A = np.zeros(3, dtype=[('A', 'i8'), ('B', 'f8')])\n",
    "A"
   ]
  },
  {
   "cell_type": "markdown",
   "id": "7bfe7e97-5ddf-4eaa-b7b4-8b09bcf92e9d",
   "metadata": {},
   "source": [
    "## The Pandas Index Object"
   ]
  },
  {
   "cell_type": "code",
   "execution_count": 22,
   "id": "fc629262-2ad5-4d84-9ae7-984c01a00c42",
   "metadata": {},
   "outputs": [
    {
     "data": {
      "text/plain": [
       "Index([2, 3, 5, 7, 11], dtype='int64')"
      ]
     },
     "execution_count": 22,
     "metadata": {},
     "output_type": "execute_result"
    }
   ],
   "source": [
    "ind = pd.Index([2, 3, 5, 7, 11])\n",
    "ind"
   ]
  },
  {
   "cell_type": "markdown",
   "id": "c1819eb4-f206-4cd3-bbd2-34dbe20d6ef8",
   "metadata": {},
   "source": [
    "### 불변의 배열 immutable array"
   ]
  },
  {
   "cell_type": "code",
   "execution_count": 23,
   "id": "bc55a369-1cd0-4b21-84cb-2b96b53cf59b",
   "metadata": {},
   "outputs": [
    {
     "name": "stdout",
     "output_type": "stream",
     "text": [
      "3\n",
      "Index([2, 5, 11], dtype='int64')\n",
      "5 (5,) 1 int64\n"
     ]
    }
   ],
   "source": [
    "# Index 객체는 여러 면에서 배열처럼 동작\n",
    "print(ind[1])\n",
    "print(ind[::2])\n",
    "print(ind.size, ind.shape, ind.ndim, ind.dtype)"
   ]
  },
  {
   "cell_type": "code",
   "execution_count": 24,
   "id": "0a7f316e-395b-4248-a8b4-9e431f8ea3c7",
   "metadata": {},
   "outputs": [
    {
     "ename": "TypeError",
     "evalue": "Index does not support mutable operations",
     "output_type": "error",
     "traceback": [
      "\u001b[1;31m---------------------------------------------------------------------------\u001b[0m",
      "\u001b[1;31mTypeError\u001b[0m                                 Traceback (most recent call last)",
      "Cell \u001b[1;32mIn[24], line 4\u001b[0m\n\u001b[0;32m      1\u001b[0m \u001b[38;5;66;03m# Index 객체는 일반적인 방법으로 변경 불가\u001b[39;00m\n\u001b[0;32m      2\u001b[0m \u001b[38;5;66;03m# --> 예기치 않은 인덱스 변경으로 인한 부작용 없이\u001b[39;00m\n\u001b[0;32m      3\u001b[0m \u001b[38;5;66;03m# 여러 DataFrame과 배열 사이에서 인덱스를 더 안전하게 공유 가능\u001b[39;00m\n\u001b[1;32m----> 4\u001b[0m ind[\u001b[38;5;241m1\u001b[39m] \u001b[38;5;241m=\u001b[39m \u001b[38;5;241m0\u001b[39m\n",
      "File \u001b[1;32mD:\\miniconda3\\Lib\\site-packages\\pandas\\core\\indexes\\base.py:5371\u001b[0m, in \u001b[0;36mIndex.__setitem__\u001b[1;34m(self, key, value)\u001b[0m\n\u001b[0;32m   5369\u001b[0m \u001b[38;5;129m@final\u001b[39m\n\u001b[0;32m   5370\u001b[0m \u001b[38;5;28;01mdef\u001b[39;00m \u001b[38;5;21m__setitem__\u001b[39m(\u001b[38;5;28mself\u001b[39m, key, value) \u001b[38;5;241m-\u001b[39m\u001b[38;5;241m>\u001b[39m \u001b[38;5;28;01mNone\u001b[39;00m:\n\u001b[1;32m-> 5371\u001b[0m     \u001b[38;5;28;01mraise\u001b[39;00m \u001b[38;5;167;01mTypeError\u001b[39;00m(\u001b[38;5;124m\"\u001b[39m\u001b[38;5;124mIndex does not support mutable operations\u001b[39m\u001b[38;5;124m\"\u001b[39m)\n",
      "\u001b[1;31mTypeError\u001b[0m: Index does not support mutable operations"
     ]
    }
   ],
   "source": [
    "# Index 객체는 일반적인 방법으로 변경 불가\n",
    "# --> 예기치 않은 인덱스 변경으로 인한 부작용 없이\n",
    "# 여러 DataFrame과 배열 사이에서 인덱스를 더 안전하게 공유 가능\n",
    "ind[1] = 0"
   ]
  },
  {
   "cell_type": "markdown",
   "id": "4a266179-ea56-43ee-a1df-4e7e0ace9e67",
   "metadata": {},
   "source": [
    "### 정렬된 집합 ordered set"
   ]
  },
  {
   "cell_type": "code",
   "execution_count": 25,
   "id": "9d4da89d-f241-44fe-9780-81f8e522b03e",
   "metadata": {},
   "outputs": [
    {
     "name": "stdout",
     "output_type": "stream",
     "text": [
      "indA & indB: Index([0, 3, 5, 7, 9], dtype='int64')\n",
      "indA | indB: Index([3, 3, 5, 7, 11], dtype='int64')\n",
      "indA ^ indB: Index([3, 0, 0, 0, 2], dtype='int64')\n"
     ]
    }
   ],
   "source": [
    "indA = pd.Index([1, 3, 5, 7, 9])\n",
    "indB = pd.Index([2, 3, 5, 7, 11])\n",
    "# 파이썬에 내장된 set 데이터 구조에서 사용하는 표기법을 따름\n",
    "print(\"indA & indB:\", indA & indB) # 교집합\n",
    "print(\"indA | indB:\", indA | indB) # 합집합\n",
    "print(\"indA ^ indB:\", indA ^ indB) # 대칭 차(두 집합의 상대 여집합의 합)"
   ]
  }
 ],
 "metadata": {
  "kernelspec": {
   "display_name": "Python 3 (ipykernel)",
   "language": "python",
   "name": "python3"
  },
  "language_info": {
   "codemirror_mode": {
    "name": "ipython",
    "version": 3
   },
   "file_extension": ".py",
   "mimetype": "text/x-python",
   "name": "python",
   "nbconvert_exporter": "python",
   "pygments_lexer": "ipython3",
   "version": "3.12.1"
  }
 },
 "nbformat": 4,
 "nbformat_minor": 5
}
