{
 "cells": [
  {
   "cell_type": "markdown",
   "id": "eb08bece-7291-46c8-ab99-7335ed4f9040",
   "metadata": {},
   "source": [
    "# 벡터화된 문자열 연산 Working_With_Strings"
   ]
  },
  {
   "cell_type": "markdown",
   "id": "55431d81-1170-446a-bcb2-28212ecf3e3a",
   "metadata": {},
   "source": [
    "## Pandas 문자열 연산 Pandas String Operations"
   ]
  },
  {
   "cell_type": "code",
   "execution_count": 1,
   "id": "549099f5-88d5-47d7-912e-9a9a05d9eeb2",
   "metadata": {},
   "outputs": [
    {
     "data": {
      "text/plain": [
       "array([ 4,  6, 10, 14, 22, 26])"
      ]
     },
     "execution_count": 1,
     "metadata": {},
     "output_type": "execute_result"
    }
   ],
   "source": [
    "import numpy as np\n",
    "x = np.array([2, 3, 5, 7, 11, 13])\n",
    "# 벡터화 연산\n",
    "x * 2"
   ]
  },
  {
   "cell_type": "code",
   "execution_count": 2,
   "id": "da037925-1f2b-4e2c-a870-c3df89a82270",
   "metadata": {},
   "outputs": [
    {
     "data": {
      "text/plain": [
       "['Peter', 'Paul', 'Mary', 'Guido']"
      ]
     },
     "execution_count": 2,
     "metadata": {},
     "output_type": "execute_result"
    }
   ],
   "source": [
    "data = ['peter', 'Paul', 'MARY', 'gUIDO']\n",
    "# NumPy 에서는 문자열 배열에 간단히 접근 불가 --> 루프 구문 사용\n",
    "[s.capitalize() for s in data]"
   ]
  },
  {
   "cell_type": "code",
   "execution_count": 3,
   "id": "54ca0765-3955-4754-a2ef-44b20e99b632",
   "metadata": {},
   "outputs": [
    {
     "data": {
      "text/plain": [
       "0    peter\n",
       "1     Paul\n",
       "2     None\n",
       "3     MARY\n",
       "4    gUIDO\n",
       "dtype: object"
      ]
     },
     "execution_count": 3,
     "metadata": {},
     "output_type": "execute_result"
    }
   ],
   "source": [
    "import pandas as pd\n",
    "data = ['peter', 'Paul', None, 'MARY', 'gUIDO']\n",
    "names = pd.Series(data)\n",
    "names"
   ]
  },
  {
   "cell_type": "markdown",
   "id": "8c1baa16-b5ba-426d-b358-4aaf93e3ff4f",
   "metadata": {},
   "source": [
    "## Tables of Pandas String Methods"
   ]
  },
  {
   "cell_type": "code",
   "execution_count": 4,
   "id": "34e3053f-8593-4e79-85e5-78063e678896",
   "metadata": {},
   "outputs": [],
   "source": [
    "monte = pd.Series(['Graham Chapman', 'John Cleese', 'Terry Gilliam',\n",
    "                   'Eric Idle', 'Terry Jones', 'Michael Palin'])"
   ]
  },
  {
   "cell_type": "markdown",
   "id": "694010b3-b34a-450d-970c-201862e11835",
   "metadata": {},
   "source": [
    "### Methods similar to Python string methods"
   ]
  },
  {
   "cell_type": "markdown",
   "id": "811daddf-87ea-4f4f-8fdc-d689ffaaf32d",
   "metadata": {},
   "source": [
    "#### Pandas str methods\n",
    "\n",
    "|             |                  |                  |                  |\n",
    "|-------------|------------------|------------------|------------------|\n",
    "|``len()``    | ``lower()``      | ``translate()``  | ``islower()``    | \n",
    "|``ljust()``  | ``upper()``      | ``startswith()`` | ``isupper()``    | \n",
    "|``rjust()``  | ``find()``       | ``endswith()``   | ``isnumeric()``  | \n",
    "|``center()`` | ``rfind()``      | ``isalnum()``    | ``isdecimal()``  | \n",
    "|``zfill()``  | ``index()``      | ``isalpha()``    | ``split()``      | \n",
    "|``strip()``  | ``rindex()``     | ``isdigit()``    | ``rsplit()``     | \n",
    "|``rstrip()`` | ``capitalize()`` | ``isspace()``    | ``partition()``  | \n",
    "|``lstrip()`` |  ``swapcase()``  |  ``istitle()``   | ``rpartition()`` |"
   ]
  },
  {
   "cell_type": "code",
   "execution_count": 5,
   "id": "be91c5f3-22ff-4dd6-b734-835b7f309bd6",
   "metadata": {},
   "outputs": [
    {
     "data": {
      "text/plain": [
       "0    graham chapman\n",
       "1       john cleese\n",
       "2     terry gilliam\n",
       "3         eric idle\n",
       "4       terry jones\n",
       "5     michael palin\n",
       "dtype: object"
      ]
     },
     "execution_count": 5,
     "metadata": {},
     "output_type": "execute_result"
    }
   ],
   "source": [
    "# 일부 메서드는 일련의 문자열을 반환\n",
    "monte.str.lower()"
   ]
  },
  {
   "cell_type": "code",
   "execution_count": 6,
   "id": "aca3d309-e334-4a39-92ed-acb9a589b502",
   "metadata": {},
   "outputs": [
    {
     "data": {
      "text/plain": [
       "0    14\n",
       "1    11\n",
       "2    13\n",
       "3     9\n",
       "4    11\n",
       "5    13\n",
       "dtype: int64"
      ]
     },
     "execution_count": 6,
     "metadata": {},
     "output_type": "execute_result"
    }
   ],
   "source": [
    "# 일부 메서드는 숫자를 반환\n",
    "monte.str.len()"
   ]
  },
  {
   "cell_type": "code",
   "execution_count": 7,
   "id": "d5b76728-8440-42ee-9477-392f2b7ea74e",
   "metadata": {},
   "outputs": [
    {
     "data": {
      "text/plain": [
       "0    False\n",
       "1    False\n",
       "2     True\n",
       "3    False\n",
       "4     True\n",
       "5    False\n",
       "dtype: bool"
      ]
     },
     "execution_count": 7,
     "metadata": {},
     "output_type": "execute_result"
    }
   ],
   "source": [
    "# 일부 메서드는 부울 값을 반환\n",
    "monte.str.startswith('T')"
   ]
  },
  {
   "cell_type": "code",
   "execution_count": 8,
   "id": "5b383138-c802-42e3-82df-f4cde2b5885f",
   "metadata": {},
   "outputs": [
    {
     "data": {
      "text/plain": [
       "0    [Graham, Chapman]\n",
       "1       [John, Cleese]\n",
       "2     [Terry, Gilliam]\n",
       "3         [Eric, Idle]\n",
       "4       [Terry, Jones]\n",
       "5     [Michael, Palin]\n",
       "dtype: object"
      ]
     },
     "execution_count": 8,
     "metadata": {},
     "output_type": "execute_result"
    }
   ],
   "source": [
    "# 일부 메서드는 각 요소에 대한 리스트나 다른 복합 값을 반환\n",
    "monte.str.split()"
   ]
  },
  {
   "cell_type": "markdown",
   "id": "17dff15c-e85c-449b-bd6f-dde284d57f0a",
   "metadata": {},
   "source": [
    "### Methods using regular expressions"
   ]
  },
  {
   "cell_type": "markdown",
   "id": "20b68a63-e470-4ed2-9011-92b7a58ca1b7",
   "metadata": {},
   "source": [
    "#### Pandas 메서드와 파이썬 re 모듈 함수 사이의 매핑\n",
    "\n",
    "| Method | Description | EngDescription |\n",
    "|--------|-------------|----------------|\n",
    "| ``match()`` | 각 요소에 re.match()를 호출, 부울 값을 반환 | Call ``re.match()`` on each element, returning a boolean. |\n",
    "| ``extract()`` | 각 요소에 re.math()를 호출, 문자열로 매칭된 그룹을 반환 | Call ``re.match()`` on each element, returning matched groups as strings.|\n",
    "| ``findall()`` | 각 요소에 re.findall()을 호출 | Call ``re.findall()`` on each element |\n",
    "| ``replace()`` | 패턴이 발생한 곳을 다른 문자열로 대체 | Replace occurrences of pattern with some other string|\n",
    "| ``contains()`` | 각 요소에 re.search()를 호출, 부울 값을 반환 | Call ``re.search()`` on each element, returning a boolean |\n",
    "| ``count()`` | 패턴의 발생 건수를 집계 | Count occurrences of pattern|\n",
    "| ``split()``   | str.split()과 동일하지만 정규 표현식을 취함 | Equivalent to ``str.split()``, but accepts regexps |\n",
    "| ``rsplit()`` | str.rsplit()과 동일하지만 정규 표현식을 취함 | Equivalent to ``str.rsplit()``, but accepts regexps |"
   ]
  },
  {
   "cell_type": "code",
   "execution_count": 9,
   "id": "f003a75d-7a87-42de-9ec1-da81467cb6cd",
   "metadata": {},
   "outputs": [
    {
     "data": {
      "text/plain": [
       "0     Graham\n",
       "1       John\n",
       "2      Terry\n",
       "3       Eric\n",
       "4      Terry\n",
       "5    Michael\n",
       "dtype: object"
      ]
     },
     "execution_count": 9,
     "metadata": {},
     "output_type": "execute_result"
    }
   ],
   "source": [
    "# 각 요소의 시작 문자와 붙어있는 그룹을 요청해 각 요소로부터 이름 부분을 추출\n",
    "monte.str.extract('([A-Za-z]+)', expand=False)"
   ]
  },
  {
   "cell_type": "code",
   "execution_count": 10,
   "id": "77879e5a-e6c6-40ad-928c-2e09aceebd13",
   "metadata": {},
   "outputs": [
    {
     "data": {
      "text/plain": [
       "0    [Graham Chapman]\n",
       "1                  []\n",
       "2     [Terry Gilliam]\n",
       "3                  []\n",
       "4       [Terry Jones]\n",
       "5     [Michael Palin]\n",
       "dtype: object"
      ]
     },
     "execution_count": 10,
     "metadata": {},
     "output_type": "execute_result"
    }
   ],
   "source": [
    "# 문자열 시작(^)과 문자열 끝($)을 나타내는 정규 표현식을 사용해 자음으로 시작하고 끝나는 모든 이름 찾기\n",
    "monte.str.findall(r'^[^AEIOU].*[^aeiou]$')"
   ]
  },
  {
   "cell_type": "markdown",
   "id": "0d572c4a-e575-4cbc-bed9-33f22a102022",
   "metadata": {},
   "source": [
    "### Miscellaneous methods"
   ]
  },
  {
   "cell_type": "markdown",
   "id": "14b01eb1-4d29-44ab-ad47-de3d05dc6a7c",
   "metadata": {},
   "source": [
    "#### 기타 Pandas 문자열 메서드\n",
    "\n",
    "| Method | Description | EngDescription |\n",
    "|--------|-------------|----------------|\n",
    "| ``get()`` | 각 요소에 인덱스를 지정 | Index each element |\n",
    "| ``slice()`` | 각 요소에 슬라이스를 적용 | Slice each element|\n",
    "| ``slice_replace()`` | 각 요소의 슬라이스를 전달된 값으로 대체 | Replace slice in each element with passed value|\n",
    "| ``cat()``      | 문자열을 연결 | Concatenate strings|\n",
    "| ``repeat()`` | 값을 반복 | Repeat values |\n",
    "| ``normalize()`` | 문자열의 유니코드 형태를 반환 | Return Unicode form of string |\n",
    "| ``pad()`` | 문자열 왼쪽, 오른쪽, 또는 양쪽에 공백을 추가 | Add whitespace to left, right, or both sides of strings|\n",
    "| ``wrap()`` | 긴 문자열을 주어진 너비보다 짧은 길이의 여러 줄로 나눔 | Split long strings into lines with length less than a given width|\n",
    "| ``join()`` | Series의 각 요소에 있는 문자열을 전달된 구분자와 결합 | Join strings in each element of the Series with passed separator|\n",
    "| ``get_dummies()`` | DataFrame으로 가변수(dummy variable)를 추출 | extract dummy variables as a dataframe |"
   ]
  },
  {
   "cell_type": "markdown",
   "id": "492b94e8-af2d-4c04-8480-8a54dd1bbfc3",
   "metadata": {},
   "source": [
    "#### 벡터화된 항목의 접근 및 슬라이싱 Vectorized item access and slicing"
   ]
  },
  {
   "cell_type": "code",
   "execution_count": 11,
   "id": "33bec784-c679-4222-83c7-ee8e36e35bdb",
   "metadata": {},
   "outputs": [
    {
     "data": {
      "text/plain": [
       "0    Gra\n",
       "1    Joh\n",
       "2    Ter\n",
       "3    Eri\n",
       "4    Ter\n",
       "5    Mic\n",
       "dtype: object"
      ]
     },
     "execution_count": 11,
     "metadata": {},
     "output_type": "execute_result"
    }
   ],
   "source": [
    "# df.str.slice(0, 3) 과 동일\n",
    "monte.str[0:3]"
   ]
  },
  {
   "cell_type": "code",
   "execution_count": 12,
   "id": "23fd27a4-3a55-4427-bfe7-9c07e4e46f38",
   "metadata": {},
   "outputs": [
    {
     "data": {
      "text/plain": [
       "0    Chapman\n",
       "1     Cleese\n",
       "2    Gilliam\n",
       "3       Idle\n",
       "4      Jones\n",
       "5      Palin\n",
       "dtype: object"
      ]
     },
     "execution_count": 12,
     "metadata": {},
     "output_type": "execute_result"
    }
   ],
   "source": [
    "# split --> 반환한 배열의 요소에 접근\n",
    "# get --> 각 요소의 성 추출\n",
    "monte.str.split().str.get(-1)"
   ]
  },
  {
   "cell_type": "markdown",
   "id": "b37ed2d8-9a5b-4ce7-adb3-8809a429d3a0",
   "metadata": {},
   "source": [
    "#### 지시 변수 Indicator variables"
   ]
  },
  {
   "cell_type": "code",
   "execution_count": 13,
   "id": "3f96dffa-37cb-4a84-8e70-0c83895816d5",
   "metadata": {},
   "outputs": [
    {
     "data": {
      "text/html": [
       "<div>\n",
       "<style scoped>\n",
       "    .dataframe tbody tr th:only-of-type {\n",
       "        vertical-align: middle;\n",
       "    }\n",
       "\n",
       "    .dataframe tbody tr th {\n",
       "        vertical-align: top;\n",
       "    }\n",
       "\n",
       "    .dataframe thead th {\n",
       "        text-align: right;\n",
       "    }\n",
       "</style>\n",
       "<table border=\"1\" class=\"dataframe\">\n",
       "  <thead>\n",
       "    <tr style=\"text-align: right;\">\n",
       "      <th></th>\n",
       "      <th>name</th>\n",
       "      <th>info</th>\n",
       "    </tr>\n",
       "  </thead>\n",
       "  <tbody>\n",
       "    <tr>\n",
       "      <th>0</th>\n",
       "      <td>Graham Chapman</td>\n",
       "      <td>B|C|D</td>\n",
       "    </tr>\n",
       "    <tr>\n",
       "      <th>1</th>\n",
       "      <td>John Cleese</td>\n",
       "      <td>B|D</td>\n",
       "    </tr>\n",
       "    <tr>\n",
       "      <th>2</th>\n",
       "      <td>Terry Gilliam</td>\n",
       "      <td>A|C</td>\n",
       "    </tr>\n",
       "    <tr>\n",
       "      <th>3</th>\n",
       "      <td>Eric Idle</td>\n",
       "      <td>B|D</td>\n",
       "    </tr>\n",
       "    <tr>\n",
       "      <th>4</th>\n",
       "      <td>Terry Jones</td>\n",
       "      <td>B|C</td>\n",
       "    </tr>\n",
       "    <tr>\n",
       "      <th>5</th>\n",
       "      <td>Michael Palin</td>\n",
       "      <td>B|C|D</td>\n",
       "    </tr>\n",
       "  </tbody>\n",
       "</table>\n",
       "</div>"
      ],
      "text/plain": [
       "             name   info\n",
       "0  Graham Chapman  B|C|D\n",
       "1     John Cleese    B|D\n",
       "2   Terry Gilliam    A|C\n",
       "3       Eric Idle    B|D\n",
       "4     Terry Jones    B|C\n",
       "5   Michael Palin  B|C|D"
      ]
     },
     "execution_count": 13,
     "metadata": {},
     "output_type": "execute_result"
    }
   ],
   "source": [
    "full_monte = pd.DataFrame({'name': monte,\n",
    "                           'info': ['B|C|D', 'B|D', 'A|C',\n",
    "                                    'B|D', 'B|C', 'B|C|D']})\n",
    "full_monte"
   ]
  },
  {
   "cell_type": "code",
   "execution_count": 14,
   "id": "c5b7d125-4678-4569-9edd-996a4feda613",
   "metadata": {},
   "outputs": [
    {
     "data": {
      "text/html": [
       "<div>\n",
       "<style scoped>\n",
       "    .dataframe tbody tr th:only-of-type {\n",
       "        vertical-align: middle;\n",
       "    }\n",
       "\n",
       "    .dataframe tbody tr th {\n",
       "        vertical-align: top;\n",
       "    }\n",
       "\n",
       "    .dataframe thead th {\n",
       "        text-align: right;\n",
       "    }\n",
       "</style>\n",
       "<table border=\"1\" class=\"dataframe\">\n",
       "  <thead>\n",
       "    <tr style=\"text-align: right;\">\n",
       "      <th></th>\n",
       "      <th>A</th>\n",
       "      <th>B</th>\n",
       "      <th>C</th>\n",
       "      <th>D</th>\n",
       "    </tr>\n",
       "  </thead>\n",
       "  <tbody>\n",
       "    <tr>\n",
       "      <th>0</th>\n",
       "      <td>0</td>\n",
       "      <td>1</td>\n",
       "      <td>1</td>\n",
       "      <td>1</td>\n",
       "    </tr>\n",
       "    <tr>\n",
       "      <th>1</th>\n",
       "      <td>0</td>\n",
       "      <td>1</td>\n",
       "      <td>0</td>\n",
       "      <td>1</td>\n",
       "    </tr>\n",
       "    <tr>\n",
       "      <th>2</th>\n",
       "      <td>1</td>\n",
       "      <td>0</td>\n",
       "      <td>1</td>\n",
       "      <td>0</td>\n",
       "    </tr>\n",
       "    <tr>\n",
       "      <th>3</th>\n",
       "      <td>0</td>\n",
       "      <td>1</td>\n",
       "      <td>0</td>\n",
       "      <td>1</td>\n",
       "    </tr>\n",
       "    <tr>\n",
       "      <th>4</th>\n",
       "      <td>0</td>\n",
       "      <td>1</td>\n",
       "      <td>1</td>\n",
       "      <td>0</td>\n",
       "    </tr>\n",
       "    <tr>\n",
       "      <th>5</th>\n",
       "      <td>0</td>\n",
       "      <td>1</td>\n",
       "      <td>1</td>\n",
       "      <td>1</td>\n",
       "    </tr>\n",
       "  </tbody>\n",
       "</table>\n",
       "</div>"
      ],
      "text/plain": [
       "   A  B  C  D\n",
       "0  0  1  1  1\n",
       "1  0  1  0  1\n",
       "2  1  0  1  0\n",
       "3  0  1  0  1\n",
       "4  0  1  1  0\n",
       "5  0  1  1  1"
      ]
     },
     "execution_count": 14,
     "metadata": {},
     "output_type": "execute_result"
    }
   ],
   "source": [
    "# 지시 변수를 DataFrame으로 나누기\n",
    "full_monte['info'].str.get_dummies('|')"
   ]
  }
 ],
 "metadata": {
  "kernelspec": {
   "display_name": "Python 3 (ipykernel)",
   "language": "python",
   "name": "python3"
  },
  "language_info": {
   "codemirror_mode": {
    "name": "ipython",
    "version": 3
   },
   "file_extension": ".py",
   "mimetype": "text/x-python",
   "name": "python",
   "nbconvert_exporter": "python",
   "pygments_lexer": "ipython3",
   "version": "3.11.7"
  }
 },
 "nbformat": 4,
 "nbformat_minor": 5
}
